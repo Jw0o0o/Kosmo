{
 "cells": [
  {
   "cell_type": "markdown",
   "metadata": {},
   "source": [
    "# 02-22 강의 메모 "
   ]
  },
  {
   "cell_type": "markdown",
   "metadata": {},
   "source": [
    "### 여러가지 내장 함수"
   ]
  },
  {
   "cell_type": "markdown",
   "metadata": {},
   "source": [
    "lambda_function = lambda <인자> : <인자 활용 수행 코드> \n"
   ]
  },
  {
   "cell_type": "markdown",
   "metadata": {},
   "source": [
    "lambda_function(<인자>)"
   ]
  },
  {
   "cell_type": "code",
   "execution_count": 1,
   "metadata": {},
   "outputs": [
    {
     "data": {
      "text/plain": [
       "9"
      ]
     },
     "execution_count": 1,
     "metadata": {},
     "output_type": "execute_result"
    }
   ],
   "source": [
    "(lambda x : x **2) (3)"
   ]
  },
  {
   "cell_type": "code",
   "execution_count": 3,
   "metadata": {},
   "outputs": [
    {
     "data": {
      "text/plain": [
       "11"
      ]
     },
     "execution_count": 3,
     "metadata": {},
     "output_type": "execute_result"
    }
   ],
   "source": [
    "mySimpleFunc = lambda x,y,z : 2*x + 3*y + z\n",
    "mySimpleFunc(1,2,3)"
   ]
  },
  {
   "cell_type": "code",
   "execution_count": 4,
   "metadata": {},
   "outputs": [
    {
     "data": {
      "text/plain": [
       "[0, 3, -1]"
      ]
     },
     "execution_count": 4,
     "metadata": {},
     "output_type": "execute_result"
    }
   ],
   "source": [
    "[int(0.123), int(3.5123456), int(-1.312367)]    #int형으로 캐스팅"
   ]
  },
  {
   "cell_type": "code",
   "execution_count": 5,
   "metadata": {},
   "outputs": [
    {
     "ename": "ValueError",
     "evalue": "invalid literal for int() with base 10: 'a1234'",
     "output_type": "error",
     "traceback": [
      "\u001b[1;31m---------------------------------------------------------------------------\u001b[0m",
      "\u001b[1;31mValueError\u001b[0m                                Traceback (most recent call last)",
      "Cell \u001b[1;32mIn[5], line 1\u001b[0m\n\u001b[1;32m----> 1\u001b[0m [\u001b[38;5;28;43mint\u001b[39;49m\u001b[43m(\u001b[49m\u001b[38;5;124;43m'\u001b[39;49m\u001b[38;5;124;43ma1234\u001b[39;49m\u001b[38;5;124;43m'\u001b[39;49m\u001b[43m)\u001b[49m, \u001b[38;5;28mint\u001b[39m(\u001b[38;5;124m'\u001b[39m\u001b[38;5;124m5678\u001b[39m\u001b[38;5;124m'\u001b[39m), \u001b[38;5;28mint\u001b[39m (\u001b[38;5;124m'\u001b[39m\u001b[38;5;124m-9012\u001b[39m\u001b[38;5;124m'\u001b[39m)]  \u001b[38;5;66;03m# 컴파일 오류 캐스팅 시 문자가 있어서 인트로 형변환이 안됨\u001b[39;00m\n",
      "\u001b[1;31mValueError\u001b[0m: invalid literal for int() with base 10: 'a1234'"
     ]
    }
   ],
   "source": [
    "[int('a1234'), int('5678'), int ('-9012')]  # 컴파일 오류 캐스팅 시 문자가 있어서 인트로 형변환이 안됨"
   ]
  },
  {
   "cell_type": "code",
   "execution_count": 6,
   "metadata": {},
   "outputs": [
    {
     "data": {
      "text/plain": [
       "[0.0, 123.0, -567.0]"
      ]
     },
     "execution_count": 6,
     "metadata": {},
     "output_type": "execute_result"
    }
   ],
   "source": [
    "[float(0), float(123), float(-567)]     #물론 float형 으로도 캐스팅이 가능"
   ]
  },
  {
   "cell_type": "code",
   "execution_count": 7,
   "metadata": {},
   "outputs": [
    {
     "data": {
      "text/plain": [
       "['123', '45678', '-987']"
      ]
     },
     "execution_count": 7,
     "metadata": {},
     "output_type": "execute_result"
    }
   ],
   "source": [
    "[str(123), str(45678), str(-987)]   #string으로 숫자를 캐스팅시 문자 취급이 되기 때문에 조심해야 한다."
   ]
  },
  {
   "cell_type": "code",
   "execution_count": 15,
   "metadata": {},
   "outputs": [],
   "source": [
    "list_data = ['abc', 1, 2, 'def']\n",
    "tuple_data = ('abc', 1, 2, 'def')\n",
    "set_data = {'abc', 1, 2, 'def'}"
   ]
  },
  {
   "cell_type": "code",
   "execution_count": 16,
   "metadata": {},
   "outputs": [
    {
     "data": {
      "text/plain": [
       "[list, tuple, set]"
      ]
     },
     "execution_count": 16,
     "metadata": {},
     "output_type": "execute_result"
    }
   ],
   "source": [
    "[type(list_data), type(tuple_data), type(set_data)] #각각 리스트, 튜플, 세트형으로 잘 만들어진걸 확인해볼 수 있음."
   ]
  },
  {
   "cell_type": "code",
   "execution_count": 17,
   "metadata": {},
   "outputs": [
    {
     "name": "stdout",
     "output_type": "stream",
     "text": [
      "리스트로 변환 :  ['abc', 1, 2, 'def'] [1, 'abc', 2, 'def']\n"
     ]
    },
    {
     "data": {
      "text/plain": [
       "[list, list]"
      ]
     },
     "execution_count": 17,
     "metadata": {},
     "output_type": "execute_result"
    }
   ],
   "source": [
    "print(\"리스트로 변환 : \", list(tuple_data), list(set_data)) #각각 튜플과 세트가 모두 리스트형으로 캐스팅됨을 확인할 수 있다.\n",
    "[type(list(tuple_data)), type(list(set_data))]"
   ]
  },
  {
   "cell_type": "code",
   "execution_count": 14,
   "metadata": {},
   "outputs": [
    {
     "name": "stdout",
     "output_type": "stream",
     "text": [
      "튜플로 변환 :  ('abc', 1, 2, 'def') (1, 'abc', 2, 'def')\n"
     ]
    },
    {
     "data": {
      "text/plain": [
       "[tuple, tuple]"
      ]
     },
     "execution_count": 14,
     "metadata": {},
     "output_type": "execute_result"
    }
   ],
   "source": [
    "print(\"튜플로 변환 : \", tuple(list_data), tuple(set_data)) #역시 리스트와 세트도 튜플로 캐스팅된다.\n",
    "[type(tuple(list_data)), type(tuple(set_data))]"
   ]
  },
  {
   "cell_type": "code",
   "execution_count": 17,
   "metadata": {},
   "outputs": [
    {
     "name": "stdout",
     "output_type": "stream",
     "text": [
      "세트로 변환 :  {1, 'abc', 2, 'def'} {1, 'abc', 2, 'def'}\n"
     ]
    },
    {
     "data": {
      "text/plain": [
       "[set, set]"
      ]
     },
     "execution_count": 17,
     "metadata": {},
     "output_type": "execute_result"
    }
   ],
   "source": [
    "print(\"세트로 변환 : \", set(list_data), set(tuple_data)) # 앞에서와 동일하게 세트형으로도 캐스팅 됨을 확인할 수 있다.\n",
    "[type(set(list_data)), type(set(tuple_data))]"
   ]
  },
  {
   "cell_type": "code",
   "execution_count": 20,
   "metadata": {},
   "outputs": [
    {
     "data": {
      "text/plain": [
       "False"
      ]
     },
     "execution_count": 20,
     "metadata": {},
     "output_type": "execute_result"
    }
   ],
   "source": [
    "bool(0)     #False  Python에서의 bool형은 첫 문자는 항상 대문자임 "
   ]
  },
  {
   "cell_type": "code",
   "execution_count": 21,
   "metadata": {},
   "outputs": [
    {
     "data": {
      "text/plain": [
       "True"
      ]
     },
     "execution_count": 21,
     "metadata": {},
     "output_type": "execute_result"
    }
   ],
   "source": [
    "bool(1)     #True   0이 아닌 수는 모두 True임"
   ]
  },
  {
   "cell_type": "code",
   "execution_count": 22,
   "metadata": {},
   "outputs": [
    {
     "data": {
      "text/plain": [
       "True"
      ]
     },
     "execution_count": 22,
     "metadata": {},
     "output_type": "execute_result"
    }
   ],
   "source": [
    "bool(-29)   #그러기에 음수를 임역하여도 True가 나옴 "
   ]
  },
  {
   "cell_type": "code",
   "execution_count": 24,
   "metadata": {},
   "outputs": [
    {
     "data": {
      "text/plain": [
       "True"
      ]
     },
     "execution_count": 24,
     "metadata": {},
     "output_type": "execute_result"
    }
   ],
   "source": [
    "bool(' ')   #함수의 인자가 문자열인 경우 문자열이 있으면 True 없으면 False를 출력하게 된다 "
   ]
  },
  {
   "cell_type": "code",
   "execution_count": 25,
   "metadata": {},
   "outputs": [
    {
     "data": {
      "text/plain": [
       "False"
      ]
     },
     "execution_count": 25,
     "metadata": {},
     "output_type": "execute_result"
    }
   ],
   "source": [
    "bool('')    #비어있는 공백이기에 False를 출력"
   ]
  },
  {
   "cell_type": "code",
   "execution_count": 26,
   "metadata": {},
   "outputs": [
    {
     "data": {
      "text/plain": [
       "False"
      ]
     },
     "execution_count": 26,
     "metadata": {},
     "output_type": "execute_result"
    }
   ],
   "source": [
    "bool(None)  #그러므로 None 역시 False를 출력한다."
   ]
  },
  {
   "cell_type": "markdown",
   "metadata": {},
   "source": [
    "값을 입력받고 bool 형태에 넣어 값을 입력받았는지 확인해볼 수 있다."
   ]
  },
  {
   "cell_type": "code",
   "execution_count": 27,
   "metadata": {},
   "outputs": [],
   "source": [
    "def print_name(name):\n",
    "    if bool(name):\n",
    "        print(\"입력된 이름 : \", name)\n",
    "    else :\n",
    "        print(\"이름이 없습니다.\")"
   ]
  },
  {
   "cell_type": "code",
   "execution_count": 33,
   "metadata": {},
   "outputs": [
    {
     "name": "stdout",
     "output_type": "stream",
     "text": [
      "이름이 없습니다.\n",
      "입력된 이름 :  이름\n"
     ]
    }
   ],
   "source": [
    "print_name('')\n",
    "print_name(\"이름\")\n"
   ]
  },
  {
   "cell_type": "code",
   "execution_count": 36,
   "metadata": {},
   "outputs": [
    {
     "data": {
      "text/plain": [
       "[-12, 99.5]"
      ]
     },
     "execution_count": 36,
     "metadata": {},
     "output_type": "execute_result"
    }
   ],
   "source": [
    "myNum = [10, 5, -12, 0 ,3.5, 99.5, 42]   #min max를 통해 최소값 최저값을 얻어낼 수 있다.\n",
    "[min(myNum), max(myNum)]"
   ]
  },
  {
   "cell_type": "code",
   "execution_count": 40,
   "metadata": {},
   "outputs": [
    {
     "data": {
      "text/plain": [
       "['A', 'z']"
      ]
     },
     "execution_count": 40,
     "metadata": {},
     "output_type": "execute_result"
    }
   ],
   "source": [
    "myStr = 'zxyAabc'                        #문자열 역시 알파벳 순서로 비교하여 값을 얻어낼 수 있다. A ~ Z ~ a ~ z 대문자 ~ 소문자 다시 생각해보자 아스키코드 0 = 48, A = 65, a = 97\n",
    "[min(myStr), max(myStr)]"
   ]
  },
  {
   "cell_type": "code",
   "execution_count": 163,
   "metadata": {},
   "outputs": [
    {
     "data": {
      "text/plain": [
       "[10, 10]"
      ]
     },
     "execution_count": 163,
     "metadata": {},
     "output_type": "execute_result"
    }
   ],
   "source": [
    "[abs(10), abs(-10)]                 #abs() 를통해서 절대값을 얻어낼 수 있다."
   ]
  },
  {
   "cell_type": "code",
   "execution_count": 41,
   "metadata": {},
   "outputs": [
    {
     "data": {
      "text/plain": [
       "55"
      ]
     },
     "execution_count": 41,
     "metadata": {},
     "output_type": "execute_result"
    }
   ],
   "source": [
    "sumList = [1,2,3,4,5,6,7,8,9,10]    #값을 더해주는 sum함수\n",
    "sum(sumList)"
   ]
  },
  {
   "cell_type": "code",
   "execution_count": 43,
   "metadata": {},
   "outputs": [
    {
     "data": {
      "text/plain": [
       "5"
      ]
     },
     "execution_count": 43,
     "metadata": {},
     "output_type": "execute_result"
    }
   ],
   "source": [
    "len(\"ab cd\")        #java length와 같음 \"a\" \"b\" \" \" \"c\" \"d\" 5로 출력되는 모습"
   ]
  },
  {
   "cell_type": "code",
   "execution_count": 47,
   "metadata": {},
   "outputs": [
    {
     "name": "stdout",
     "output_type": "stream",
     "text": [
      "총점 : 350, 평균 : 87.5\n",
      "총점 : 350, 평균 : 87.5\n",
      "최고점 : 95, 최하점 : 80\n"
     ]
    }
   ],
   "source": [
    "scores = [90, 80, 95, 85]\n",
    "\n",
    "score_sum = 0\n",
    "subject_num = 0\n",
    "\n",
    "for score in scores:\n",
    "    score_sum += score\n",
    "    subject_num += 1\n",
    "\n",
    "avarage = score_sum / subject_num\n",
    "\n",
    "print(\"총점 : {0}, 평균 : {1}\".format(score_sum,avarage))       #sum(), len()을 사용하지 않을때\n",
    "\n",
    "print(\"총점 : {0}, 평균 : {1}\".format(sum(scores),(sum(scores)/len(scores))))   #sum, len을 사용\n",
    "\n",
    "print(\"최고점 : {0}, 최하점 : {1}\".format(max(scores), min(scores)))\n"
   ]
  },
  {
   "cell_type": "markdown",
   "metadata": {},
   "source": [
    "#### 문자와 파일 다루기"
   ]
  },
  {
   "cell_type": "code",
   "execution_count": 51,
   "metadata": {},
   "outputs": [
    {
     "data": {
      "text/plain": [
       "['에스프레소', '아메리카노', '카페라테', '카푸치노']"
      ]
     },
     "execution_count": 51,
     "metadata": {},
     "output_type": "execute_result"
    }
   ],
   "source": [
    "coffee_menu_str = \"에스프레소, 아메리카노, 카페라테, 카푸치노\"\n",
    "coffee_menu_str.split(', ')     # ', ' 쉼표 스페이스가 나올때마다 잘라서 저장하겠다.  > 쉼표 스페이스가 나올때마다 잘라서 리스트형으로 저장 "
   ]
  },
  {
   "cell_type": "code",
   "execution_count": 52,
   "metadata": {},
   "outputs": [
    {
     "data": {
      "text/plain": [
       "['에스프레소', '아메리카노', '카페라테', '카푸치노']"
      ]
     },
     "execution_count": 52,
     "metadata": {},
     "output_type": "execute_result"
    }
   ],
   "source": [
    "\"에스프레소, 아메리카노, 카페라테, 카푸치노\".split(', ')    # 변수.split 이 아닌 문자열.split도 가능함"
   ]
  },
  {
   "cell_type": "code",
   "execution_count": 53,
   "metadata": {},
   "outputs": [
    {
     "data": {
      "text/plain": [
       "['에스프레소', '아메리카노', '카페라테', '카푸치노']"
      ]
     },
     "execution_count": 53,
     "metadata": {},
     "output_type": "execute_result"
    }
   ],
   "source": [
    "\"에스프레소 아메리카노 카페라테 카푸치노\".split(' ')"
   ]
  },
  {
   "cell_type": "code",
   "execution_count": 55,
   "metadata": {},
   "outputs": [
    {
     "data": {
      "text/plain": [
       "['에스프레소', '아메리카노', '카페라테', '카푸치노']"
      ]
     },
     "execution_count": 55,
     "metadata": {},
     "output_type": "execute_result"
    }
   ],
   "source": [
    "\"에스프레소 아메리카노 카페라테 카푸치노\".split()       #구분자를 넣어주지 않아도 디폴트가 공백 한칸이기 때문에 정상적으로 실행"
   ]
  },
  {
   "cell_type": "code",
   "execution_count": 56,
   "metadata": {},
   "outputs": [
    {
     "data": {
      "text/plain": [
       "['에스프레소', '아메리카노', '카페라테', '카푸치노']"
      ]
     },
     "execution_count": 56,
     "metadata": {},
     "output_type": "execute_result"
    }
   ],
   "source": [
    "\"      에스프레소     \\n\\n    아메리카노 \\n 카페라테 \\n\\n 카푸치노 \\n\\n\\n\\n\".split()        #구분자가 없을 시 모든 공백과 개행문자를 사라지게도 사용가능"
   ]
  },
  {
   "cell_type": "code",
   "execution_count": 58,
   "metadata": {},
   "outputs": [
    {
     "data": {
      "text/plain": [
       "['에스프레소', '아메리카노', '카페라테 카푸치노']"
      ]
     },
     "execution_count": 58,
     "metadata": {},
     "output_type": "execute_result"
    }
   ],
   "source": [
    "\"에스프레소 아메리카노 카페라테 카푸치노\".split(maxsplit=2)     #앞에 2개 만 따로 지정하고 나머진 묶어줌"
   ]
  },
  {
   "cell_type": "code",
   "execution_count": 61,
   "metadata": {},
   "outputs": [
    {
     "name": "stdout",
     "output_type": "stream",
     "text": [
      "['+82', '10-1234-5678']\n",
      "국내전화번호: 010-1234-5678\n"
     ]
    }
   ],
   "source": [
    "phone_number = \"+82-10-1234-5678\"   #국가번호 포함 전화번호\n",
    "split_num = phone_number.split(\"-\", 1)\n",
    "print(split_num)\n",
    "print(\"국내전화번호: 0{0}\".format(split_num[1]))"
   ]
  },
  {
   "cell_type": "code",
   "execution_count": 63,
   "metadata": {},
   "outputs": [
    {
     "name": "stdout",
     "output_type": "stream",
     "text": [
      "주민번호 앞자리 : 000104\n"
     ]
    }
   ],
   "source": [
    "SocialNumber = \"000104-1234567\"\n",
    "splitSn = SocialNumber.split(\"-\")\n",
    "print(\"생년월일 : {0}\".format(splitSn[0]))"
   ]
  },
  {
   "cell_type": "code",
   "execution_count": 64,
   "metadata": {},
   "outputs": [
    {
     "data": {
      "text/plain": [
       "'Python'"
      ]
     },
     "execution_count": 64,
     "metadata": {},
     "output_type": "execute_result"
    }
   ],
   "source": [
    "\"aaaaPythonaaa\".strip('a') #문자열 안에 'a'를 제거"
   ]
  },
  {
   "cell_type": "code",
   "execution_count": 67,
   "metadata": {},
   "outputs": [
    {
     "data": {
      "text/plain": [
       "'Python'"
      ]
     },
     "execution_count": 67,
     "metadata": {},
     "output_type": "execute_result"
    }
   ],
   "source": [
    "test_str = \"aaabbPythonbbbaa\"\n",
    "temp1 = test_str.strip('ab')  #문자열 앞뒤에 있는 'ab' 제거 콤마로 구분하지 않아도 된다.\n",
    "temp1"
   ]
  },
  {
   "cell_type": "code",
   "execution_count": 70,
   "metadata": {},
   "outputs": [
    {
     "data": {
      "text/plain": [
       "'Python is Easy$(!**$(*#)a'"
      ]
     },
     "execution_count": 70,
     "metadata": {},
     "output_type": "execute_result"
    }
   ],
   "source": [
    "test_str_multi = \"!@#$!#!$$!#@!!#Python is Easy$(!**$(*#)a)\" #양 끝에 있는 특수문자를 제거하기에 끝에 있는 y 와 a사이의 특수문자는 지우지 못하는걸 확인할 수 있다.\n",
    "test_str_multi.strip('!@#$%^&*()-_=+')"
   ]
  },
  {
   "cell_type": "code",
   "execution_count": 75,
   "metadata": {},
   "outputs": [
    {
     "data": {
      "text/plain": [
       "'Python \\nPython'"
      ]
     },
     "execution_count": 75,
     "metadata": {},
     "output_type": "execute_result"
    }
   ],
   "source": [
    "\"\\n \\nPython \\nPython \\n\\n\".strip()     # 같은 \\nPython을 두번 연속해서 적었더니 두번째 파이썬은 \\nPython으로 출력되는걸 확인할 수 있다. 이런 걸 해결하기 위해선 split으로 전처리 과정이 필요"
   ]
  },
  {
   "cell_type": "code",
   "execution_count": 76,
   "metadata": {},
   "outputs": [
    {
     "name": "stdout",
     "output_type": "stream",
     "text": [
      "Python is eaty to learn\n",
      "Python is eaty to learn000\n",
      "000Python is eaty to learn\n"
     ]
    }
   ],
   "source": [
    "str_lr = \"000Python is eaty to learn000\"\n",
    "print(str_lr.strip('0'))\n",
    "print(str_lr.lstrip('0'))\n",
    "print(str_lr.rstrip('0'))"
   ]
  },
  {
   "cell_type": "code",
   "execution_count": 80,
   "metadata": {},
   "outputs": [
    {
     "name": "stdout",
     "output_type": "stream",
     "text": [
      "  에스프레소\n"
     ]
    },
    {
     "data": {
      "text/plain": [
       "['에스프레소', '아메리카노', '카페라테', '카푸치노']"
      ]
     },
     "execution_count": 80,
     "metadata": {},
     "output_type": "execute_result"
    }
   ],
   "source": [
    "coffee_menu = \"  에스프레소, 아메리카노,      카페라테   , 카푸치노  \"\n",
    "coffee_menu_list = coffee_menu.split(',')\n",
    "coffee_menu_list\n",
    "print(coffee_menu_list[0])\n",
    "newCoffeeMenuList = []\n",
    "for i in coffee_menu_list:\n",
    "    newCoffeeMenuList.append(i.strip())\n",
    "newCoffeeMenuList"
   ]
  },
  {
   "cell_type": "code",
   "execution_count": 81,
   "metadata": {},
   "outputs": [
    {
     "data": {
      "text/plain": [
       "['서울시', '서초구', '반포대로', '302(반포동)']"
      ]
     },
     "execution_count": 81,
     "metadata": {},
     "output_type": "execute_result"
    }
   ],
   "source": [
    "address_list = [\"서울시\",\"서초구\",\"반포대로\",\"302(반포동)\"]\n",
    "address_list"
   ]
  },
  {
   "cell_type": "code",
   "execution_count": 82,
   "metadata": {},
   "outputs": [
    {
     "data": {
      "text/plain": [
       "'서울시 서초구 반포대로 302(반포동)'"
      ]
     },
     "execution_count": 82,
     "metadata": {},
     "output_type": "execute_result"
    }
   ],
   "source": [
    "a = \" \"\n",
    "a.join(address_list)    #   리스트의 문사 사이어 넣을 것.join(리스트)"
   ]
  },
  {
   "cell_type": "code",
   "execution_count": 84,
   "metadata": {},
   "outputs": [
    {
     "name": "stdout",
     "output_type": "stream",
     "text": [
      "찾는 문자열의 위치: 0\n",
      "찾는 문자열의 위치: 7\n",
      "찾는 문자열의 위치: 5\n",
      "찾는 문자열의 위치: -1\n",
      "찾는 문자열의 위치: -1\n"
     ]
    }
   ],
   "source": [
    "str_f = \"Python code.\"      \n",
    "\n",
    "print(\"찾는 문자열의 위치:\", str_f.find(\"Python\"))  #Python을 찾고 처음시작하는 위치를 출력\n",
    "print(\"찾는 문자열의 위치:\", str_f.find(\"code\"))\n",
    "print(\"찾는 문자열의 위치:\", str_f.find(\"n\"))\n",
    "print(\"찾는 문자열의 위치:\", str_f.find(\"easy\"))    #존재하지 않으면 -1 출력"
   ]
  },
  {
   "cell_type": "code",
   "execution_count": 87,
   "metadata": {},
   "outputs": [
    {
     "name": "stdout",
     "output_type": "stream",
     "text": [
      "20\n",
      "-1\n",
      "39\n"
     ]
    }
   ],
   "source": [
    "str_f_se = \"Python is powerful. Python is easy to learn.\"   #find 함수는 위치를 지정할 수 있다.\n",
    "\n",
    "print(str_f_se.find(\"Python\", 10, 30))  # 시작 위치와 끝 위치 지정\n",
    "print(str_f_se.find(\"Python\", 35))      # 찾기 위한 시작 위치 만 지정"
   ]
  },
  {
   "cell_type": "code",
   "execution_count": 91,
   "metadata": {},
   "outputs": [
    {
     "name": "stdout",
     "output_type": "stream",
     "text": [
      "Python의 개수는? : 3\n",
      "powerful의 개수는? : 1\n",
      "IPython의 개수는? : 0\n"
     ]
    }
   ],
   "source": [
    "str_c = \"Python is powerful. Python is easy to learn. Python is open.\"\n",
    "\n",
    "print(\"Python의 개수는? :\", str_c.count(\"Python\"))\n",
    "print(\"powerful의 개수는? :\", str_c.count(\"powerful\"))\n",
    "print(\"IPython의 개수는? :\", str_c.count(\"IPython\"))"
   ]
  },
  {
   "cell_type": "markdown",
   "metadata": {},
   "source": [
    "str.startswith(\"findStr\", start, end)   #문자열.startswith(\"지정된 문자열\", 시작점, 끝점)\n",
    "str.startswith(\"findStr\", start)\n",
    "str.startswith(\"findStr\")\n",
    "start와 반대로 end로 변경해 사용가능\n",
    "str.endswith(\"findStr\", start, end)   #문자열.endswith(\"지정된 문자열\", 시작점, 끝점)\n",
    "str.endtswith(\"findStr\", start)\n",
    "str.endswith(\"findStr\")\n",
    "\n",
    "각각 문자열이 지정된 문자열로 시작하는지 끝나는지를  검사할 때 사용한다.\n"
   ]
  },
  {
   "cell_type": "code",
   "execution_count": 94,
   "metadata": {},
   "outputs": [
    {
     "name": "stdout",
     "output_type": "stream",
     "text": [
      "Python으로 시작? : True\n",
      "is로 시작? : False\n",
      ".로 끝? : True\n",
      "learn으로 끝? : False\n"
     ]
    }
   ],
   "source": [
    "str_se = \"Python is powerful. Python is easy to learn.\"\n",
    "\n",
    "print(\"Python으로 시작? :\", str_se.startswith(\"Python\"))\n",
    "print(\"is로 시작? :\", str_se.startswith(\"is\"))\n",
    "print(\".로 끝? :\", str_se.endswith(\".\"))\n",
    "print(\"learn으로 끝? :\", str_se.endswith(\"learn\"))"
   ]
  },
  {
   "cell_type": "code",
   "execution_count": 95,
   "metadata": {},
   "outputs": [
    {
     "name": "stdout",
     "output_type": "stream",
     "text": [
      "IPython is powerful. IPython is easy to learn. IPython is open.\n",
      "IPython is powerful. IPython is easy to learn. Python is open.\n"
     ]
    }
   ],
   "source": [
    "str_a = \"Python is powerful. Python is easy to learn. Python is open.\"\n",
    "\n",
    "print(str_a.replace('Python', 'IPython'))   #Python 을 > IPython 으로 변경\n",
    "print(str_a.replace('Python', 'IPython', 2))#위와 같이 변경하지만 2회까지만."
   ]
  },
  {
   "cell_type": "code",
   "execution_count": 101,
   "metadata": {},
   "outputs": [
    {
     "name": "stdout",
     "output_type": "stream",
     "text": [
      "[Python] [is] [fast]\n",
      "Python] is] fast]\n",
      "Python is fast\n"
     ]
    }
   ],
   "source": [
    "str_b = '[Python] [is] [fast]'\n",
    "str_b1 = str_b.replace('[', '') #'[', ']' 두가지를 '' 공백으로 변경하여 중괄호를 삭제할 수 있다.\n",
    "str_b2 = str_b1.replace(']', '')\n",
    "\n",
    "print(str_b)\n",
    "print(str_b1)\n",
    "print(str_b2)"
   ]
  },
  {
   "cell_type": "code",
   "execution_count": 103,
   "metadata": {},
   "outputs": [
    {
     "name": "stdout",
     "output_type": "stream",
     "text": [
      "True\n",
      "False\n"
     ]
    }
   ],
   "source": [
    "print('Python'.isalpha())   # .isalpha를 통하여 문자열로만 이루어져있는지 확인할 수 있다.\n",
    "print('Ver. 3.X'.isalpha())"
   ]
  },
  {
   "cell_type": "code",
   "execution_count": 104,
   "metadata": {},
   "outputs": [
    {
     "name": "stdout",
     "output_type": "stream",
     "text": [
      "True\n",
      "False\n"
     ]
    }
   ],
   "source": [
    "print('12345'.isdigit())    #모두 숫자로 구성되어 있으면 True 아니면 False\n",
    "print('12345abc'.isdigit())"
   ]
  },
  {
   "cell_type": "code",
   "execution_count": 105,
   "metadata": {},
   "outputs": [
    {
     "name": "stdout",
     "output_type": "stream",
     "text": [
      "True\n",
      "False\n"
     ]
    }
   ],
   "source": [
    "print('abc1234'.isalnum()) #특수 문자나 공백이 아닌 문자와 숫자로만 구성되어 있으면 True\n",
    "print('       abc1234'.isalnum())"
   ]
  },
  {
   "cell_type": "code",
   "execution_count": 106,
   "metadata": {},
   "outputs": [
    {
     "name": "stdout",
     "output_type": "stream",
     "text": [
      "True\n",
      "False\n"
     ]
    }
   ],
   "source": [
    "print('      '.isspace())   # 공백으로만 구성되어있으면 True\n",
    "print('  1   '.isspace())"
   ]
  },
  {
   "cell_type": "code",
   "execution_count": 110,
   "metadata": {},
   "outputs": [
    {
     "name": "stdout",
     "output_type": "stream",
     "text": [
      "True\n",
      "True\n",
      "False\n",
      "True\n",
      "False\n"
     ]
    }
   ],
   "source": [
    "print(\"PYTHON\".isupper())   #모두 대문자로 구성되어있으면 True \n",
    "print('Python'.isupper())\n",
    "print('python'.islower())   #모두 소문자로만 구성되어 있으면 True\n",
    "print('Python'.islower())"
   ]
  },
  {
   "cell_type": "code",
   "execution_count": 112,
   "metadata": {},
   "outputs": [
    {
     "name": "stdout",
     "output_type": "stream",
     "text": [
      "True\n",
      "True\n"
     ]
    }
   ],
   "source": [
    "a = 'Python'.upper()        #앞서 is를 안붙인 .upper .lower로 전부 대문자화 소문자화를 해봤음\n",
    "print(a.isupper())\n",
    "\n",
    "b = 'Python'.lower()    \n",
    "print(b.islower())"
   ]
  },
  {
   "cell_type": "code",
   "execution_count": 111,
   "metadata": {},
   "outputs": [
    {
     "data": {
      "text/plain": [
       "False"
      ]
     },
     "execution_count": 111,
     "metadata": {},
     "output_type": "execute_result"
    }
   ],
   "source": [
    "'Python' == 'python'    #파이썬은 대소문자를 구분한다."
   ]
  },
  {
   "cell_type": "code",
   "execution_count": 147,
   "metadata": {},
   "outputs": [
    {
     "name": "stdout",
     "output_type": "stream",
     "text": [
      "날짜    에스프레소  아메리카노  카페라테  카푸치노\n",
      "10.15       10  \t50         45       20   \n",
      "10.16       12\t\t45         41       18\n",
      "10.17       11\t\t53         32       25\n",
      "10.18       15\t\t49         38       22"
     ]
    }
   ],
   "source": [
    "file_name = 'coffeeShopSales.txt'\n",
    "\n",
    "f = open(file_name)\n",
    "for line in f:\n",
    "    print(line, end='')\n",
    "f.close()"
   ]
  },
  {
   "cell_type": "code",
   "execution_count": 164,
   "metadata": {},
   "outputs": [
    {
     "name": "stdout",
     "output_type": "stream",
     "text": [
      "에스프레소 : [10, 12, 11, 15]\n",
      "아메리카노 : [50, 45, 53, 49]\n",
      "카페라테 : [45, 41, 32, 38]\n",
      "카푸치노 : [20, 18, 25, 22]\n"
     ]
    }
   ],
   "source": [
    "f = open(file_name)\n",
    "i = f.readline()\n",
    "j = i.split()\n",
    "\n",
    "espresso = []\n",
    "americano = []\n",
    "cafeLatte = []\n",
    "cappuciino = []\n",
    "\n",
    "\n",
    "for k in f:\n",
    "    list = k.split()\n",
    "    espresso.append(int(list[1]))\n",
    "    americano.append(int(list[2]))\n",
    "    cafeLatte.append(int(list[3]))\n",
    "    cappuciino.append(int(list[4]))\n",
    "\n",
    "f.close()\n",
    "\n",
    "print(\"{0} : {1}\".format(j[1], espresso))\n",
    "print(\"{0} : {1}\".format(j[2], americano))\n",
    "print(\"{0} : {1}\".format(j[3], cafeLatte))\n",
    "print(\"{0} : {1}\".format(j[4], cappuciino))\n"
   ]
  },
  {
   "cell_type": "code",
   "execution_count": 166,
   "metadata": {},
   "outputs": [
    {
     "name": "stdout",
     "output_type": "stream",
     "text": [
      "[에스프레소] 판매량\n",
      "4일 전체 판매량 : 48, 평균 : 12.0\n",
      "[아메리카노] 판매량\n",
      "4일 전체 판매량 : 197, 평균 : 49.25 \n"
     ]
    }
   ],
   "source": [
    "print(\"[{0}] 판매량\".format(j[1]))\n",
    "print(\"{0}일 전체 판매량 : {1}, 평균 : {2}\".format(len(espresso),sum(espresso),(sum(espresso)/len(espresso))))\n",
    "\n",
    "print(\"[{0}] 판매량\".format(j[2]))\n",
    "print(\"{0}일 전체 판매량 : {1}, 평균 : {2} \".format(len(americano),sum(americano),(sum(americano)/len(americano))))  "
   ]
  },
  {
   "cell_type": "code",
   "execution_count": 169,
   "metadata": {},
   "outputs": [
    {
     "name": "stdout",
     "output_type": "stream",
     "text": [
      "[에스프레소] 판매량\n",
      " -4일 전체 : 48, 하루 평균12.0\n",
      "[아메리카노] 판매량\n",
      " -4일 전체 : 197, 하루 평균49.25\n",
      "[카페라테] 판매량\n",
      " -4일 전체 : 156, 하루 평균39.0\n",
      "[카푸치노] 판매량\n",
      " -4일 전체 : 85, 하루 평균21.25\n"
     ]
    }
   ],
   "source": [
    "#똑같은 노가다를 해야할 땐 반복문을 사용해보자!!!\n",
    "\n",
    "total_sum = [sum(espresso), sum(americano), sum(cafeLatte), sum(cappuciino)]\n",
    "total_avg = [sum(espresso)/len(espresso), sum(americano)/len(americano), sum(cafeLatte)/len(cafeLatte), sum(cappuciino)/len(cappuciino)]\n",
    "\n",
    "for n in range(len(total_sum)):\n",
    "    print(\"[{0}] 판매량\".format(j[n+1]))\n",
    "    print(\" -4일 전체 : {0}, 하루 평균{1}\".format(total_sum[n],total_avg[n]))"
   ]
  },
  {
   "cell_type": "code",
   "execution_count": 170,
   "metadata": {},
   "outputs": [
    {
     "name": "stdout",
     "output_type": "stream",
     "text": [
      "날짜    에스프레소  아메리카노  카페라테  카푸치노\n",
      "\n"
     ]
    }
   ],
   "source": [
    "print(i)"
   ]
  },
  {
   "cell_type": "code",
   "execution_count": 182,
   "metadata": {},
   "outputs": [
    {
     "data": {
      "text/plain": [
       "'y'"
      ]
     },
     "execution_count": 182,
     "metadata": {},
     "output_type": "execute_result"
    }
   ],
   "source": [
    "string = \"python is good\"\n",
    "\n",
    "string[1]"
   ]
  },
  {
   "cell_type": "code",
   "execution_count": 184,
   "metadata": {},
   "outputs": [
    {
     "data": {
      "text/plain": [
       "'good'"
      ]
     },
     "execution_count": 184,
     "metadata": {},
     "output_type": "execute_result"
    }
   ],
   "source": [
    "string[10:]"
   ]
  },
  {
   "cell_type": "code",
   "execution_count": 190,
   "metadata": {},
   "outputs": [
    {
     "data": {
      "text/plain": [
       "'13579'"
      ]
     },
     "execution_count": 190,
     "metadata": {},
     "output_type": "execute_result"
    }
   ],
   "source": [
    "string = \"123456789\"\n",
    "\n",
    "string[::2]\n",
    "\n",
    "    "
   ]
  },
  {
   "cell_type": "code",
   "execution_count": 191,
   "metadata": {},
   "outputs": [
    {
     "data": {
      "text/plain": [
       "'2468'"
      ]
     },
     "execution_count": 191,
     "metadata": {},
     "output_type": "execute_result"
    }
   ],
   "source": [
    "string[1::2]"
   ]
  },
  {
   "cell_type": "markdown",
   "metadata": {},
   "source": [
    "##### 모듈"
   ]
  },
  {
   "cell_type": "code",
   "execution_count": 192,
   "metadata": {},
   "outputs": [
    {
     "name": "stdout",
     "output_type": "stream",
     "text": [
      "Writing my_first_module.py\n"
     ]
    }
   ],
   "source": [
    "%%writefile my_first_module.py      #my_first_module.py 생성\n",
    "\n",
    "def my_funtion():                   # 생성된 파일안에 내용저장\n",
    "    print(\"This is my first module.\")"
   ]
  },
  {
   "cell_type": "code",
   "execution_count": 193,
   "metadata": {},
   "outputs": [],
   "source": [
    "import my_first_module"
   ]
  },
  {
   "cell_type": "code",
   "execution_count": 194,
   "metadata": {},
   "outputs": [
    {
     "name": "stdout",
     "output_type": "stream",
     "text": [
      "This is my first module.\n"
     ]
    }
   ],
   "source": [
    "my_first_module.my_funtion()"
   ]
  },
  {
   "cell_type": "code",
   "execution_count": 195,
   "metadata": {},
   "outputs": [
    {
     "name": "stdout",
     "output_type": "stream",
     "text": [
      "Writing my_area.py\n"
     ]
    }
   ],
   "source": [
    "%%writefile my_area.py\n",
    "\n",
    "PI = 3.14\n",
    "def square_area(a):\n",
    "    return a ** 2\n",
    "\n",
    "def circle_area(r):\n",
    "    return PI * r ** 2"
   ]
  },
  {
   "cell_type": "code",
   "execution_count": 197,
   "metadata": {},
   "outputs": [
    {
     "name": "stdout",
     "output_type": "stream",
     "text": [
      "pi =  3.14\n",
      "square area =  25\n",
      "circle area = 12.56\n"
     ]
    }
   ],
   "source": [
    "import my_area\n",
    "print('pi = ', my_area.PI)\n",
    "print('square area = ', my_area.square_area(5))\n",
    "print('circle area =', my_area.circle_area(2))"
   ]
  },
  {
   "cell_type": "code",
   "execution_count": 198,
   "metadata": {},
   "outputs": [],
   "source": [
    "from my_area import square_area     #my_area에서 square_area만 가져오고싶을 때 사용"
   ]
  },
  {
   "cell_type": "code",
   "execution_count": null,
   "metadata": {},
   "outputs": [],
   "source": [
    "from my_area import *   #모든 기능을 가져오고 싶을때 *"
   ]
  },
  {
   "cell_type": "markdown",
   "metadata": {},
   "source": [
    "#### 모듈속 동일한 함수가 존재할때"
   ]
  },
  {
   "cell_type": "code",
   "execution_count": 201,
   "metadata": {},
   "outputs": [
    {
     "name": "stdout",
     "output_type": "stream",
     "text": [
      "Overwriting my_module1.py\n"
     ]
    }
   ],
   "source": [
    "%%writefile my_module1.py\n",
    "\n",
    "def func1():\n",
    "    print(\"func1 in my_module1\")\n",
    "\n",
    "def func2():\n",
    "    print(\"func2 in my_module1\")"
   ]
  },
  {
   "cell_type": "code",
   "execution_count": 202,
   "metadata": {},
   "outputs": [
    {
     "name": "stdout",
     "output_type": "stream",
     "text": [
      "Overwriting my_module2.py\n"
     ]
    }
   ],
   "source": [
    "%%writefile my_module2.py\n",
    "\n",
    "def func2():\n",
    "    print(\"func2 in my_module2\")\n",
    "\n",
    "def func3():\n",
    "    print(\"func3 in my_module2\")"
   ]
  },
  {
   "cell_type": "code",
   "execution_count": 203,
   "metadata": {},
   "outputs": [],
   "source": [
    "from my_module1 import *\n",
    "from my_module2 import *"
   ]
  },
  {
   "cell_type": "code",
   "execution_count": 204,
   "metadata": {},
   "outputs": [
    {
     "name": "stdout",
     "output_type": "stream",
     "text": [
      "func1 in my_module1\n",
      "func2 in my_module2\n",
      "func3 in my_module2\n"
     ]
    }
   ],
   "source": [
    "func1()\n",
    "func2() #같은 func2가 존재하지만 나중에 import한 모델2의 func2를 따라가게됨\n",
    "func3()"
   ]
  },
  {
   "cell_type": "code",
   "execution_count": 205,
   "metadata": {},
   "outputs": [
    {
     "name": "stdout",
     "output_type": "stream",
     "text": [
      "func1 in my_module1\n",
      "func2 in my_module1\n",
      "func3 in my_module2\n"
     ]
    }
   ],
   "source": [
    "from my_module2 import *\n",
    "from my_module1 import *\n",
    "\n",
    "func1()\n",
    "func2()     #1을 뒤에 import했기에 모델 1로 나오는 모습을 확인할 수 있다.\n",
    "func3()\n"
   ]
  },
  {
   "cell_type": "code",
   "execution_count": 208,
   "metadata": {},
   "outputs": [
    {
     "name": "stdout",
     "output_type": "stream",
     "text": [
      "pi =  3.14\n",
      "square area =  25\n",
      "circle area =  12.56\n"
     ]
    }
   ],
   "source": [
    "import my_area as a\n",
    "\n",
    "print('pi = ', a.PI)\n",
    "print('square area = ', a.square_area(5))\n",
    "print('circle area = ', a.circle_area(2))"
   ]
  },
  {
   "cell_type": "code",
   "execution_count": 209,
   "metadata": {},
   "outputs": [],
   "source": [
    "from my_area import PI as pi\n",
    "from my_area import square_area as sa\n",
    "from my_area import circle_area as ca"
   ]
  },
  {
   "cell_type": "code",
   "execution_count": 222,
   "metadata": {},
   "outputs": [
    {
     "name": "stdout",
     "output_type": "stream",
     "text": [
      "pi = 3.14\n",
      "square area =  25\n",
      "circle area =  12.56\n"
     ]
    }
   ],
   "source": [
    "print('pi =', pi)\n",
    "print('square area = ', sa(5))\n",
    "print('circle area = ', ca(2))"
   ]
  },
  {
   "cell_type": "code",
   "execution_count": 1,
   "metadata": {},
   "outputs": [
    {
     "name": "stdout",
     "output_type": "stream",
     "text": [
      "Overwriting my_module_test1.py\n"
     ]
    }
   ],
   "source": [
    "%%writefile my_module_test1.py\n",
    "\n",
    "def func(a):\n",
    "    print(\"입력 숫자:\", a)\n",
    "\n",
    "func(3)"
   ]
  },
  {
   "cell_type": "code",
   "execution_count": 2,
   "metadata": {},
   "outputs": [
    {
     "name": "stdout",
     "output_type": "stream",
     "text": [
      "입력 숫자: 3\n"
     ]
    }
   ],
   "source": [
    "import my_module_test1"
   ]
  },
  {
   "cell_type": "code",
   "execution_count": 228,
   "metadata": {},
   "outputs": [
    {
     "name": "stdout",
     "output_type": "stream",
     "text": [
      "Writing my_module_test2.py\n"
     ]
    }
   ],
   "source": [
    "%%writefile my_module_test2.py\n",
    "\n",
    "def func(a):\n",
    "    print(\"입력 숫자 : \", a)\n",
    "\n",
    "if __name__ == \"__main__\":\n",
    "    print(\"모듈을 직접 실행\")\n",
    "    func(3)\n",
    "    func(4)"
   ]
  },
  {
   "cell_type": "code",
   "execution_count": 229,
   "metadata": {},
   "outputs": [],
   "source": [
    "import my_module_test2"
   ]
  },
  {
   "cell_type": "code",
   "execution_count": 232,
   "metadata": {},
   "outputs": [
    {
     "name": "stdout",
     "output_type": "stream",
     "text": [
      "모듈을 직접 실행\n",
      "입력 숫자 :  3\n",
      "입력 숫자 :  4\n"
     ]
    }
   ],
   "source": [
    "%run my_module_test2.py"
   ]
  },
  {
   "cell_type": "code",
   "execution_count": 233,
   "metadata": {},
   "outputs": [
    {
     "name": "stdout",
     "output_type": "stream",
     "text": [
      "입력 숫자 :  3\n"
     ]
    }
   ],
   "source": [
    "import my_module_test2\n",
    "func(3)"
   ]
  },
  {
   "cell_type": "code",
   "execution_count": 1,
   "metadata": {},
   "outputs": [
    {
     "name": "stdout",
     "output_type": "stream",
     "text": [
      "Overwriting my_module_test3.py\n"
     ]
    }
   ],
   "source": [
    "%%writefile my_module_test3.py\n",
    "\n",
    "def func(a):\n",
    "    print(\"입력 숫자:\",a)\n",
    "\n",
    "if __name__== \"__main__\":\n",
    "    print(\"모듈을 직접 실행\")\n",
    "    func(3)\n",
    "    func(4)\n",
    "else:\n",
    "    print(\"모듈을 임포트해서 실행\")"
   ]
  },
  {
   "cell_type": "code",
   "execution_count": 2,
   "metadata": {},
   "outputs": [
    {
     "name": "stdout",
     "output_type": "stream",
     "text": [
      "모듈을 직접 실행\n",
      "입력 숫자: 3\n",
      "입력 숫자: 4\n"
     ]
    }
   ],
   "source": [
    "%run my_module_test3.py"
   ]
  },
  {
   "cell_type": "code",
   "execution_count": 3,
   "metadata": {},
   "outputs": [
    {
     "name": "stdout",
     "output_type": "stream",
     "text": [
      "모듈을 임포트해서 실행\n"
     ]
    },
    {
     "data": {
      "text/plain": [
       "<module 'my_module_test3' from 'c:\\\\Python\\\\my_module_test3.py'>"
      ]
     },
     "execution_count": 3,
     "metadata": {},
     "output_type": "execute_result"
    }
   ],
   "source": [
    "import my_module_test3\n",
    "\n",
    "my_module_test3"
   ]
  },
  {
   "cell_type": "code",
   "execution_count": 8,
   "metadata": {},
   "outputs": [],
   "source": [
    "import random"
   ]
  },
  {
   "cell_type": "code",
   "execution_count": 9,
   "metadata": {},
   "outputs": [
    {
     "data": {
      "text/plain": [
       "0.6402236762631532"
      ]
     },
     "execution_count": 9,
     "metadata": {},
     "output_type": "execute_result"
    }
   ],
   "source": [
    "random.random()"
   ]
  },
  {
   "cell_type": "code",
   "execution_count": 14,
   "metadata": {},
   "outputs": [
    {
     "name": "stdout",
     "output_type": "stream",
     "text": [
      "주사위 두 개의 숫자: 6, 1\n"
     ]
    }
   ],
   "source": [
    "dice1 = random.randint(1,6)\n",
    "dice2 = random.randint(1,6)\n",
    "print('주사위 두 개의 숫자: {0}, {1}'.format(dice1,dice2))"
   ]
  },
  {
   "cell_type": "markdown",
   "metadata": {},
   "source": [
    "### Python Standard Libarary 10개정도 돌려보기"
   ]
  },
  {
   "cell_type": "code",
   "execution_count": 18,
   "metadata": {},
   "outputs": [],
   "source": [
    "import sys\n",
    "\n",
    "a = sys.stdin.readline()\n",
    "print(a)"
   ]
  },
  {
   "cell_type": "code",
   "execution_count": 3,
   "metadata": {},
   "outputs": [
    {
     "name": "stdout",
     "output_type": "stream",
     "text": [
      "4\n",
      "3\n"
     ]
    },
    {
     "data": {
      "text/plain": [
       "2.718281828459045"
      ]
     },
     "execution_count": 3,
     "metadata": {},
     "output_type": "execute_result"
    }
   ],
   "source": [
    "import math\n",
    "\n",
    "print(math.ceil(3.14))\n",
    "print(math.floor(3.14)) \n",
    "math.e"
   ]
  },
  {
   "cell_type": "code",
   "execution_count": 11,
   "metadata": {},
   "outputs": [
    {
     "name": "stdout",
     "output_type": "stream",
     "text": [
      "[1, 2, 3, 4]\n"
     ]
    }
   ],
   "source": [
    "import heapq\n",
    "\n",
    "h = []\n",
    "\n",
    "heapq.heappush(h, 4)\n",
    "heapq.heappush(h, 2)\n",
    "heapq.heappush(h, 3)\n",
    "heapq.heappush(h, 1)\n",
    "\n",
    "print(h)"
   ]
  },
  {
   "cell_type": "code",
   "execution_count": 17,
   "metadata": {},
   "outputs": [
    {
     "name": "stdout",
     "output_type": "stream",
     "text": [
      "deque([1, 3])\n",
      "deque([7, 1, 3])\n",
      "deque([7, 1])\n",
      "deque([1])\n"
     ]
    }
   ],
   "source": [
    "from collections import deque\n",
    "\n",
    "data = deque([])\n",
    "data.append(1)\n",
    "data.append(3)\n",
    "print(data)\n",
    "data.appendleft(7)\n",
    "print(data)\n",
    "data.pop()\n",
    "print(data)\n",
    "data.popleft()\n",
    "print(data)"
   ]
  },
  {
   "cell_type": "code",
   "execution_count": null,
   "metadata": {},
   "outputs": [],
   "source": []
  }
 ],
 "metadata": {
  "kernelspec": {
   "display_name": "Python 3",
   "language": "python",
   "name": "python3"
  },
  "language_info": {
   "codemirror_mode": {
    "name": "ipython",
    "version": 3
   },
   "file_extension": ".py",
   "mimetype": "text/x-python",
   "name": "python",
   "nbconvert_exporter": "python",
   "pygments_lexer": "ipython3",
   "version": "3.11.8"
  }
 },
 "nbformat": 4,
 "nbformat_minor": 2
}
