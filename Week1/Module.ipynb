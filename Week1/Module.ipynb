{
 "cells": [
  {
   "cell_type": "markdown",
   "metadata": {},
   "source": [
    "# 모듈\n",
    "파이썬에서 코드가 저장된 파일을 모듈이라고 한다.<br/>\n",
    "모듈은 상수, 변수, 함수, 클래스를 포함하는 코드가 저장된 파일이다."
   ]
  },
  {
   "cell_type": "code",
   "execution_count": 4,
   "metadata": {},
   "outputs": [
    {
     "name": "stdout",
     "output_type": "stream",
     "text": [
      "Overwriting myFirstModule.py\n"
     ]
    }
   ],
   "source": [
    "%%writefile myFirstModule.py\n",
    "\n",
    "def myFunc():       #myFunc라는 이름의 함수 생성\n",
    "    print(\"This is my first module\")"
   ]
  },
  {
   "cell_type": "markdown",
   "metadata": {},
   "source": [
    "import 를 통하여 모듈을 불러올 수 있다."
   ]
  },
  {
   "cell_type": "code",
   "execution_count": 5,
   "metadata": {},
   "outputs": [
    {
     "name": "stdout",
     "output_type": "stream",
     "text": [
      "This is my first module\n"
     ]
    }
   ],
   "source": [
    "import myFirstModule\n",
    "\n",
    "myFirstModule.myFunc()"
   ]
  },
  {
   "cell_type": "code",
   "execution_count": 7,
   "metadata": {},
   "outputs": [
    {
     "name": "stdout",
     "output_type": "stream",
     "text": [
      "Writing myArea.py\n"
     ]
    }
   ],
   "source": [
    "%%writefile myArea.py\n",
    "\n",
    "PI = 3.14\n",
    "def squareArea(a):\n",
    "    return a ** 2\n",
    "\n",
    "def circleArea(r):\n",
    "    return PI * r ** 2"
   ]
  },
  {
   "cell_type": "code",
   "execution_count": 8,
   "metadata": {},
   "outputs": [
    {
     "name": "stdout",
     "output_type": "stream",
     "text": [
      "pi = 3.14\n",
      "square area = 25\n",
      "circle area = 12.56\n"
     ]
    }
   ],
   "source": [
    "import myArea\n",
    "\n",
    "print('pi =', myArea.PI)\n",
    "print('square area =', myArea.squareArea(5))\n",
    "print('circle area =', myArea.circleArea(2))"
   ]
  },
  {
   "cell_type": "code",
   "execution_count": 10,
   "metadata": {},
   "outputs": [
    {
     "data": {
      "text/plain": [
       "['PI',\n",
       " '__builtins__',\n",
       " '__cached__',\n",
       " '__doc__',\n",
       " '__file__',\n",
       " '__loader__',\n",
       " '__name__',\n",
       " '__package__',\n",
       " '__spec__',\n",
       " 'circleArea',\n",
       " 'squareArea']"
      ]
     },
     "execution_count": 10,
     "metadata": {},
     "output_type": "execute_result"
    }
   ],
   "source": [
    "#불러온 모듈에서 사용할 수 있는 모든 변수, 함수, 클래스를 알고싶으면 dir()을 이용하면 된다.\n",
    "dir(myArea) "
   ]
  },
  {
   "cell_type": "code",
   "execution_count": 11,
   "metadata": {},
   "outputs": [
    {
     "name": "stdout",
     "output_type": "stream",
     "text": [
      "pi = 3.14\n"
     ]
    }
   ],
   "source": [
    "from myArea import PI   #PI를 지정해 불러왔다\n",
    "\n",
    "print('pi =', PI)"
   ]
  },
  {
   "cell_type": "code",
   "execution_count": 12,
   "metadata": {},
   "outputs": [
    {
     "name": "stdout",
     "output_type": "stream",
     "text": [
      "pi = 3.14\n",
      "square area = 25\n",
      "circle area = 12.56\n"
     ]
    }
   ],
   "source": [
    "import myArea as ma # as 별명 을 붙여 별명으로 호출할 수 있다.\n",
    "\n",
    "print('pi =', ma.PI)\n",
    "print('square area =', ma.squareArea(5))\n",
    "print('circle area =', ma.circleArea(2))"
   ]
  },
  {
   "cell_type": "code",
   "execution_count": null,
   "metadata": {},
   "outputs": [],
   "source": []
  }
 ],
 "metadata": {
  "kernelspec": {
   "display_name": "Python 3",
   "language": "python",
   "name": "python3"
  },
  "language_info": {
   "codemirror_mode": {
    "name": "ipython",
    "version": 3
   },
   "file_extension": ".py",
   "mimetype": "text/x-python",
   "name": "python",
   "nbconvert_exporter": "python",
   "pygments_lexer": "ipython3",
   "version": "3.9.6"
  }
 },
 "nbformat": 4,
 "nbformat_minor": 2
}
