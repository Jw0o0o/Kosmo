{
 "cells": [
  {
   "cell_type": "markdown",
   "metadata": {},
   "source": [
    "### 자바와 다른 부분만 필기함"
   ]
  },
  {
   "cell_type": "markdown",
   "metadata": {},
   "source": [
    "### if문의 사용법"
   ]
  },
  {
   "cell_type": "code",
   "execution_count": 3,
   "metadata": {},
   "outputs": [
    {
     "name": "stdout",
     "output_type": "stream",
     "text": [
      "x는 80 입니다.\n"
     ]
    }
   ],
   "source": [
    "x = 80\n",
    "    \n",
    "if x == 80 :        # if <조건문> : \n",
    "    print(\"x는 80 입니다.\")\n",
    "elif x == 50:       # else if 대신 elif사용\n",
    "    print(\"x는 50 입니다.\")\n",
    "else:\n",
    "    print(\"x는 80이 아닙니다.\")"
   ]
  },
  {
   "cell_type": "markdown",
   "metadata": {},
   "source": [
    "### for문의 사용법"
   ]
  },
  {
   "cell_type": "code",
   "execution_count": 4,
   "metadata": {},
   "outputs": [
    {
     "name": "stdout",
     "output_type": "stream",
     "text": [
      "0\n",
      "1\n",
      "2\n",
      "3\n",
      "4\n",
      "5\n",
      "6\n",
      "7\n",
      "8\n",
      "9\n"
     ]
    }
   ],
   "source": [
    "for i in range(10):     #for <변수> in <반복범위>:\n",
    "    print(i)            #<코드블록>"
   ]
  },
  {
   "cell_type": "markdown",
   "metadata": {},
   "source": [
    "#### range()\n",
    "\n",
    "for문의 <반복범위>를 지정하는 방법 중 하나. <br/>\n",
    "for문에서 숫자로 <반복범위>를 지정할 때 주로 사용하며 다음과 같이 사용할 수 있다.\n",
    "range( 시작점, 끝점, 스탭)"
   ]
  },
  {
   "cell_type": "code",
   "execution_count": 5,
   "metadata": {},
   "outputs": [
    {
     "name": "stdout",
     "output_type": "stream",
     "text": [
      "[0, 1, 2, 3, 4, 5, 6, 7, 8, 9]\n"
     ]
    }
   ],
   "source": [
    "print(list(range(0,10,1)))"
   ]
  },
  {
   "cell_type": "code",
   "execution_count": 6,
   "metadata": {},
   "outputs": [
    {
     "name": "stdout",
     "output_type": "stream",
     "text": [
      "[0, 1, 2, 3, 4, 5, 6, 7, 8, 9]\n"
     ]
    }
   ],
   "source": [
    "print(list(range(10)))  #앞서 리스트에 범위 지정과 동일하게 시작값과 스탭을 생략하게 되면 각각 0과 1로 생성된다."
   ]
  },
  {
   "cell_type": "markdown",
   "metadata": {},
   "source": [
    "### for 문을 이용하나 리스트 다루기"
   ]
  },
  {
   "cell_type": "code",
   "execution_count": 8,
   "metadata": {},
   "outputs": [
    {
     "name": "stdout",
     "output_type": "stream",
     "text": [
      "James 95\n",
      "Robert 96\n",
      "Lisa 97\n",
      "Mary 94\n"
     ]
    }
   ],
   "source": [
    "names = ['James', 'Robert', 'Lisa', 'Mary']\n",
    "scores = [95,96,97,94]\n",
    "\n",
    "for k in range(len(names)): #여기서 len은 length와 동일함\n",
    "    print(names[k], scores[k])"
   ]
  },
  {
   "cell_type": "markdown",
   "metadata": {},
   "source": [
    "같은 리스트가 여러 개 있는 경우 위와 같은 방법으로 for문을 이용해도 되지만 같은 길이의 데이터를 하나로 묶어주는 zip()함수를 이용할 수 있다."
   ]
  },
  {
   "cell_type": "code",
   "execution_count": 9,
   "metadata": {},
   "outputs": [
    {
     "name": "stdout",
     "output_type": "stream",
     "text": [
      "James 95\n",
      "Robert 96\n",
      "Lisa 97\n",
      "Mary 94\n"
     ]
    }
   ],
   "source": [
    "for name, score in zip(names, scores):\n",
    "    print(name, score)"
   ]
  },
  {
   "cell_type": "code",
   "execution_count": 10,
   "metadata": {},
   "outputs": [
    {
     "name": "stdout",
     "output_type": "stream",
     "text": [
      "[('James', 95), ('Robert', 96), ('Lisa', 97), ('Mary', 94)]\n"
     ]
    }
   ],
   "source": [
    "print(list(zip(names,scores)))"
   ]
  },
  {
   "cell_type": "markdown",
   "metadata": {},
   "source": [
    "### while문의 사용법"
   ]
  },
  {
   "cell_type": "code",
   "execution_count": 11,
   "metadata": {},
   "outputs": [
    {
     "name": "stdout",
     "output_type": "stream",
     "text": [
      "while is True\n"
     ]
    }
   ],
   "source": [
    "while True :    #python에서의 bool형의 첫문자는 대문자이다. True False\n",
    "    print(\"while is True\") \n",
    "    break"
   ]
  },
  {
   "cell_type": "markdown",
   "metadata": {},
   "source": [
    "## 간단하게 반복하는 한 줄 for 문\n",
    "파이썬에서는 리스트, 세트, 딕셔너리 내에서 실행할 수 있는 한 줄 for문을 지원한다. 이를 컴프리헨션이라고 한다. <br/>\n",
    "컴프리헨션을 잘 이용하면 자료형 데이터를 반복해서 처리해야 할 때 코드를 한 줄로 작성할 수 있어 편하다. <br/><br/>\n",
    "리스트 컴프리헨션의 기본 구조 <br/>\n",
    "[<반복문> for <반복 변수> in <반복 범위>]"
   ]
  },
  {
   "cell_type": "code",
   "execution_count": 12,
   "metadata": {},
   "outputs": [
    {
     "name": "stdout",
     "output_type": "stream",
     "text": [
      "[1, 4, 9, 16, 25]\n"
     ]
    }
   ],
   "source": [
    "nums = [1,2,3,4,5]\n",
    "square = [i**2 for i in nums]\n",
    "print(square)"
   ]
  },
  {
   "cell_type": "markdown",
   "metadata": {},
   "source": [
    "조건문을 포함한 리스트 컴프리헨션<br/>\n",
    "[<반복문> for <반복 변수> in <반복 범위> if <조건문>]"
   ]
  },
  {
   "cell_type": "code",
   "execution_count": 14,
   "metadata": {},
   "outputs": [
    {
     "name": "stdout",
     "output_type": "stream",
     "text": [
      "[9, 16, 25]\n"
     ]
    }
   ],
   "source": [
    "#조건문을 포함한 리스트 컴프리헨션\n",
    "nums = [1,2,3,4,5]\n",
    "square2 = [i**2 for i in nums if i >= 3]\n",
    "print(square2)"
   ]
  },
  {
   "cell_type": "code",
   "execution_count": null,
   "metadata": {},
   "outputs": [],
   "source": []
  }
 ],
 "metadata": {
  "kernelspec": {
   "display_name": "Python 3",
   "language": "python",
   "name": "python3"
  },
  "language_info": {
   "codemirror_mode": {
    "name": "ipython",
    "version": 3
   },
   "file_extension": ".py",
   "mimetype": "text/x-python",
   "name": "python",
   "nbconvert_exporter": "python",
   "pygments_lexer": "ipython3",
   "version": "3.9.6"
  }
 },
 "nbformat": 4,
 "nbformat_minor": 2
}
