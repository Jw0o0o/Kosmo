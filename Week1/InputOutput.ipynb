{
 "cells": [
  {
   "cell_type": "markdown",
   "metadata": {},
   "source": [
    "# 입력과 출력"
   ]
  },
  {
   "cell_type": "markdown",
   "metadata": {},
   "source": [
    "## 화면 입력"
   ]
  },
  {
   "cell_type": "code",
   "execution_count": 2,
   "metadata": {},
   "outputs": [
    {
     "name": "stdout",
     "output_type": "stream",
     "text": [
      "Python StudyStart\n"
     ]
    }
   ],
   "source": [
    "print(\"Python\", \"Study\" + \"Start\")  # 콤마로 문자열을 붙이면 빈칸이 하나 들어가게 된다."
   ]
  },
  {
   "cell_type": "code",
   "execution_count": 3,
   "metadata": {},
   "outputs": [
    {
     "name": "stdout",
     "output_type": "stream",
     "text": [
      "Python--Is--Good\n"
     ]
    }
   ],
   "source": [
    "print(\"Python\", \"Is\", \"Good\", sep= \"--\")    # sep= 을 통하여 구분자를 빈칸을 원하는 문자로 바꿔줄 수 있다."
   ]
  },
  {
   "cell_type": "code",
   "execution_count": 6,
   "metadata": {},
   "outputs": [
    {
     "name": "stdout",
     "output_type": "stream",
     "text": [
      "Hello Python\n"
     ]
    }
   ],
   "source": [
    "print(\"Hello \", end='') #end= 는 라인 끝의 값을 지정할 수 있는 인자이다. 기본값은 (\\n)이기에 end=를 적지 않으면 자동으로 한줄을 띄어쓰게 된다.\n",
    "print(\"Python\")"
   ]
  },
  {
   "cell_type": "markdown",
   "metadata": {},
   "source": [
    "### %를 이용한 형식 및 위치 지정"
   ]
  },
  {
   "cell_type": "code",
   "execution_count": 10,
   "metadata": {},
   "outputs": [
    {
     "name": "stdout",
     "output_type": "stream",
     "text": [
      "재우는 내 이름입니다.\n"
     ]
    }
   ],
   "source": [
    "name = \"재우\"\n",
    "print(\"%s는 내 이름입니다.\" %name)  # c에서 했던 %d %s와 동일하다"
   ]
  },
  {
   "cell_type": "markdown",
   "metadata": {},
   "source": [
    "### format 을 이용한 출력 위치 지정"
   ]
  },
  {
   "cell_type": "code",
   "execution_count": 14,
   "metadata": {},
   "outputs": [
    {
     "name": "stdout",
     "output_type": "stream",
     "text": [
      "Animal : cat\n",
      "Animals : cat, dog, fox\n",
      "Animals : fox, cat\n"
     ]
    }
   ],
   "source": [
    "animals = [\"cat\", \"dog\", \"fox\"]\n",
    "\n",
    "print(\"Animal : {0}\".format(animals[0]))\n",
    "print(\"Animals : {0}, {1}, {2}\".format(animals[0], animals[1], animals[2]))\n",
    "print(\"Animals : {2}, {0}\".format(animals[0], animals[1], animals[2])) #앞에 숫자를 통해 원하는 위치에 값을 넣을 수 있다."
   ]
  },
  {
   "cell_type": "markdown",
   "metadata": {},
   "source": [
    "#### 숫자 출력 형식 지정 메서드\n",
    "    -{N:2d}    정수를 공백 포함해 2자리로 펴시\n",
    "    -{N:05d}   정수를 다섯 자리로 표시. 앞의 공백은 0으로 채움\n",
    "    -{N:>5d}   정수를 다섯 자리로 표시. 숫자는 오른쪽으로 정렬\n",
    "    -{N:.3f}   실수를 소수점 셋째 자리까지 표시\n",
    "    -{N:,}     끝에서 셋째 자리마다 콤마를 표시\n",
    "    -{N:.1%}   소수를 퍼센트로 표시. 소수점 자리 수는 .뒤에 숫자로 표시\n",
    "    -{N:.2e}   숫자를 지수로 표시. 지수 표시에서 소수점 자리 수는 .뒤에 숫자로 표시\n",
    "    -{N:#x}    16진수로 표시 #기호가 없으면 0x없이 출력\n",
    "    -{N:#o}    8진수로 표시 #기호가 없으면 0o없이 출력\n",
    "    -{N:#b}    2진수로 표시 #기호가 없으면 0b없이 출력"
   ]
  },
  {
   "cell_type": "code",
   "execution_count": 26,
   "metadata": {},
   "outputs": [
    {
     "name": "stdout",
     "output_type": "stream",
     "text": [
      " 3, 00003,     3\n",
      "0.13, 0.13312\n",
      "2,147,483,647\n",
      "32.6%\n",
      "9.25e+10\n",
      "0x11, 11\n",
      "0o21, 21\n",
      "0b10001, 10001\n"
     ]
    }
   ],
   "source": [
    "print(\"{0:2d}, {0:05d}, {0:>5d}\".format(3))\n",
    "\n",
    "a = 0.133123814612639\n",
    "print(\"{0:.2f}, {0:.5f}\".format(a))\n",
    "\n",
    "print(\"{0:,}\".format(2147483647))\n",
    "\n",
    "print(\"{0:.1%}\".format(0.3258))\n",
    "\n",
    "print(\"{0:.2e}\".format(92500000000))\n",
    "\n",
    "b = 17\n",
    "print(\"{0:#x}, {0:x}\".format(b))\n",
    "\n",
    "print(\"{0:#o}, {0:o}\".format(b))\n",
    "\n",
    "print(\"{0:#b}, {0:b}\".format(b))"
   ]
  },
  {
   "cell_type": "markdown",
   "metadata": {},
   "source": [
    "## 키보드 입력\n",
    "키보드로 데이터를 입력받기 위해서는 input()함수를 이용한다. <br/>\n",
    "input함수를 위한 기본 구조는 다음과 같다<br/>\n",
    "data = input(\"문자열\")<br/>\n",
    "input안의 \"문자열\"은 화면에 표시된다."
   ]
  },
  {
   "cell_type": "code",
   "execution_count": 28,
   "metadata": {},
   "outputs": [
    {
     "data": {
      "text/plain": [
       "'재우'"
      ]
     },
     "execution_count": 28,
     "metadata": {},
     "output_type": "execute_result"
    }
   ],
   "source": [
    "Name = input(\"이름을 입력하세요.\")\n",
    "Name"
   ]
  },
  {
   "cell_type": "markdown",
   "metadata": {},
   "source": [
    "## 파일 읽고 쓰기"
   ]
  },
  {
   "cell_type": "code",
   "execution_count": null,
   "metadata": {},
   "outputs": [],
   "source": [
    "#파일 열기\n",
    "# f = open('file_name', 'mode')"
   ]
  },
  {
   "cell_type": "markdown",
   "metadata": {},
   "source": [
    "### 파일 열기의 속성\n",
    " - r    읽기모드\n",
    " - w    쓰기모드    - 같은 이름의 파일이 있으면 기존 내용은 모두 삭제됨\n",
    " - x    쓰기모드    - 같은 이름의 파일이 있으면 오류를 발생\n",
    " - a    추가모드    - 같은 이름의 파일이 없으면 w의 기능과 동일\n",
    " - b    바이너리 파일 모드로 파일 열기\n",
    " - t    텍스트 파일 모드로 파일 열기."
   ]
  },
  {
   "cell_type": "code",
   "execution_count": 34,
   "metadata": {},
   "outputs": [],
   "source": [
    "f = open('myFile.txt', 'w')         #파일이 없다면 파일을 생성한다 생성위치를 지정하지 않으면 파이썬 파일이 존재하는 위치에 생성함\n",
    "f.write('This is my first file.')   #문자열작성\n",
    "f.close()                           #파일 수적이 끝나면 파일을 닫아주자 scanner close와 같은느낌???"
   ]
  },
  {
   "cell_type": "code",
   "execution_count": 37,
   "metadata": {},
   "outputs": [],
   "source": [
    "f = open(\"myPythonFile.txt\",'w')\n",
    "for num in range(1,6):\n",
    "    format_string = \"2 x {0} = {1} \\n\".format(num, 2*num)\n",
    "    f.write(format_string)\n",
    "f.close()"
   ]
  },
  {
   "cell_type": "code",
   "execution_count": 39,
   "metadata": {},
   "outputs": [
    {
     "name": "stdout",
     "output_type": "stream",
     "text": [
      "2 x 1 = 2 \n",
      "\n",
      "2 x 2 = 4 \n",
      "\n"
     ]
    }
   ],
   "source": [
    "#readline()\n",
    "f = open(\"myPythonFile.txt\")\n",
    "line1 = f.readline()\n",
    "line2 = f.readline()\n",
    "f.close()\n",
    "print(line1)\n",
    "print(line2)"
   ]
  },
  {
   "cell_type": "code",
   "execution_count": 40,
   "metadata": {},
   "outputs": [
    {
     "name": "stdout",
     "output_type": "stream",
     "text": [
      "2 x 1 = 2 \n",
      "2 x 2 = 4 \n",
      "2 x 3 = 6 \n",
      "2 x 4 = 8 \n",
      "2 x 5 = 10 \n"
     ]
    }
   ],
   "source": [
    "f = open(\"myPythonFile.txt\")\n",
    "line = f.readline()\n",
    "while line:\n",
    "    print(line, end = '')\n",
    "    line = f.readline()\n",
    "f.close()"
   ]
  },
  {
   "cell_type": "code",
   "execution_count": 41,
   "metadata": {},
   "outputs": [
    {
     "name": "stdout",
     "output_type": "stream",
     "text": [
      "['2 x 1 = 2 \\n', '2 x 2 = 4 \\n', '2 x 3 = 6 \\n', '2 x 4 = 8 \\n', '2 x 5 = 10 \\n']\n"
     ]
    }
   ],
   "source": [
    "#readlines()\n",
    "f = open(\"myPythonFile.txt\")\n",
    "lines = f.readlines()\n",
    "f.close()\n",
    "\n",
    "print(lines)"
   ]
  },
  {
   "cell_type": "code",
   "execution_count": 42,
   "metadata": {},
   "outputs": [
    {
     "name": "stdout",
     "output_type": "stream",
     "text": [
      "2 x 1 = 2 \n",
      "2 x 2 = 4 \n",
      "2 x 3 = 6 \n",
      "2 x 4 = 8 \n",
      "2 x 5 = 10 \n"
     ]
    }
   ],
   "source": [
    "#위에서는 개행문자를 포함해 출력되기에 for문을 사용하여 하나씩 처리해 원하는 결과를 얻을 수 있음.\n",
    "f = open(\"myPythonFile.txt\")\n",
    "lines = f.readlines()\n",
    "f.close()\n",
    "for line in lines:\n",
    "    print(line, end='')\n"
   ]
  },
  {
   "cell_type": "code",
   "execution_count": 43,
   "metadata": {},
   "outputs": [
    {
     "name": "stdout",
     "output_type": "stream",
     "text": [
      "2 x 1 = 2 \n",
      "2 x 2 = 4 \n",
      "2 x 3 = 6 \n",
      "2 x 4 = 8 \n",
      "2 x 5 = 10 \n"
     ]
    }
   ],
   "source": [
    "#위에 코드에서 for문의 반복범위에 lines 대신 바로 readlines()를 쓰면 더욱 간단해진다.\n",
    "f = open(\"myPythonFile.txt\")\n",
    "for line in f.readlines():\n",
    "    print(line, end='')\n",
    "f.close()"
   ]
  },
  {
   "cell_type": "code",
   "execution_count": 44,
   "metadata": {},
   "outputs": [
    {
     "name": "stdout",
     "output_type": "stream",
     "text": [
      "2 x 1 = 2 \n",
      "2 x 2 = 4 \n",
      "2 x 3 = 6 \n",
      "2 x 4 = 8 \n",
      "2 x 5 = 10 \n"
     ]
    }
   ],
   "source": [
    "#더욱 간단하게 하기 위해서는 f.readlines() 대신 f를 입력해도 된다. 파일 객체만 적어도 f.readlines()를 쓴 것과 같다.\n",
    "f = open(\"myPythonFile.txt\")\n",
    "for line in f:\n",
    "    print(line, end='')\n",
    "f.close()"
   ]
  },
  {
   "cell_type": "markdown",
   "metadata": {},
   "source": [
    "## with 문의 구조\n",
    "위의 open() 함수를 사용하면 끝에 close()를 사용하여 매번 닫아줘야 했지만 with을 사용한다면 자동으로 파일을 닫아 줘 close()를 사용하지 않아도 된다.  <br/><br/>\n",
    "with open('file_name', 'mode') as f: <br/>\n",
    "    <코드 블록>"
   ]
  },
  {
   "cell_type": "code",
   "execution_count": 47,
   "metadata": {},
   "outputs": [],
   "source": [
    "with open('myTextFile', 'w') as f:\n",
    "    f.write('File read/write test: line1\\n')\n",
    "    f.write('File read/write test: line2\\n')\n",
    "    f.write('File read/write test: line3\\n')"
   ]
  },
  {
   "cell_type": "code",
   "execution_count": 48,
   "metadata": {},
   "outputs": [
    {
     "name": "stdout",
     "output_type": "stream",
     "text": [
      "File read/write test: line1\n",
      "File read/write test: line2\n",
      "File read/write test: line3\n",
      "\n"
     ]
    }
   ],
   "source": [
    "with open('myTextFile') as f:\n",
    "    print(f.read())"
   ]
  },
  {
   "cell_type": "markdown",
   "metadata": {},
   "source": [
    "with 문을 반복문과 함께 이용하면 한 줄씩 문자열을 읽고 쓸 수 있다."
   ]
  },
  {
   "cell_type": "code",
   "execution_count": 51,
   "metadata": {},
   "outputs": [],
   "source": [
    "with open('myTextFile2','w') as f:\n",
    "    for num in range(1,6):\n",
    "        format_string = \"3 x {0} = {1} \\n\".format(num, 3*num)\n",
    "        f.write(format_string)"
   ]
  },
  {
   "cell_type": "code",
   "execution_count": 52,
   "metadata": {},
   "outputs": [
    {
     "name": "stdout",
     "output_type": "stream",
     "text": [
      "3 x 1 = 3 \n",
      "3 x 2 = 6 \n",
      "3 x 3 = 9 \n",
      "3 x 4 = 12 \n",
      "3 x 5 = 15 \n"
     ]
    }
   ],
   "source": [
    "with open('myTextFile2','r') as f:\n",
    "    for line in f:\n",
    "        print(line, end='')"
   ]
  },
  {
   "cell_type": "code",
   "execution_count": null,
   "metadata": {},
   "outputs": [],
   "source": []
  }
 ],
 "metadata": {
  "kernelspec": {
   "display_name": "Python 3",
   "language": "python",
   "name": "python3"
  },
  "language_info": {
   "codemirror_mode": {
    "name": "ipython",
    "version": 3
   },
   "file_extension": ".py",
   "mimetype": "text/x-python",
   "name": "python",
   "nbconvert_exporter": "python",
   "pygments_lexer": "ipython3",
   "version": "3.9.6"
  }
 },
 "nbformat": 4,
 "nbformat_minor": 2
}
