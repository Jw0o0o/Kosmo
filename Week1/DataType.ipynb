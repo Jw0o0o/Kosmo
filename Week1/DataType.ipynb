{
 "cells": [
  {
   "cell_type": "markdown",
   "metadata": {},
   "source": [
    "# 리스트"
   ]
  },
  {
   "cell_type": "markdown",
   "metadata": {},
   "source": [
    "리스트를 사용할때에는 대괄호[] 를 사용하여 만들 수 있다.<br/><br/>\n",
    "비어있는 리스트를 만들면 실제 데이터는 존재하지 않지만 리스트라는 데이터타입의 변수를 만들 수 있다"
   ]
  },
  {
   "cell_type": "code",
   "execution_count": 3,
   "metadata": {},
   "outputs": [
    {
     "data": {
      "text/plain": [
       "list"
      ]
     },
     "execution_count": 3,
     "metadata": {},
     "output_type": "execute_result"
    }
   ],
   "source": [
    "BlankList = []\n",
    "type(BlankList) #type()을 통해서 데이터 타입을 확인할 수 있다."
   ]
  },
  {
   "cell_type": "markdown",
   "metadata": {},
   "source": [
    "리스트를 만들 떄 각 항목의 데이터 타입은 같지 않아도 되며 데이터는 입력한 순서대로 지정되며 항목은 ,로 구분하게 된다.  "
   ]
  },
  {
   "cell_type": "code",
   "execution_count": 4,
   "metadata": {},
   "outputs": [
    {
     "data": {
      "text/plain": [
       "[90, 86, 87]"
      ]
     },
     "execution_count": 4,
     "metadata": {},
     "output_type": "execute_result"
    }
   ],
   "source": [
    "#1번 학생의 국어, 영어, 수학 점수가 각각 90, 86, 87이라면\n",
    "student1 = [90, 86, 87]\n",
    "student1"
   ]
  },
  {
   "cell_type": "code",
   "execution_count": 6,
   "metadata": {},
   "outputs": [
    {
     "data": {
      "text/plain": [
       "90"
      ]
     },
     "execution_count": 6,
     "metadata": {},
     "output_type": "execute_result"
    }
   ],
   "source": [
    "student1[0] #student1의 값을 꺼내서 사용할 수 있다"
   ]
  },
  {
   "cell_type": "code",
   "execution_count": 7,
   "metadata": {},
   "outputs": [
    {
     "data": {
      "text/plain": [
       "87"
      ]
     },
     "execution_count": 7,
     "metadata": {},
     "output_type": "execute_result"
    }
   ],
   "source": [
    "student1[-1]    #python에서의 -1번째는 뒤에서 첫번째를 의미한다."
   ]
  },
  {
   "cell_type": "code",
   "execution_count": 9,
   "metadata": {},
   "outputs": [],
   "source": [
    "mixedList = [0, 2, 3.14, 'python', 'program', True, student1]   #다양한 형태를 넣은 리스트도 생성이 가능하다."
   ]
  },
  {
   "cell_type": "markdown",
   "metadata": {},
   "source": [
    "리스트는 더하거나 곱할 수 있다"
   ]
  },
  {
   "cell_type": "code",
   "execution_count": 11,
   "metadata": {},
   "outputs": [
    {
     "data": {
      "text/plain": [
       "[1, 2, 3, 4, 10, 20, 30, 40]"
      ]
     },
     "execution_count": 11,
     "metadata": {},
     "output_type": "execute_result"
    }
   ],
   "source": [
    "list1 = [1, 2, 3, 4]\n",
    "list2 = [10, 20, 30, 40]\n",
    "listSum = list1 + list2\n",
    "listSum #list1뒤에 list2가 붙어서 출력됨을 확인할 수 있다."
   ]
  },
  {
   "cell_type": "code",
   "execution_count": 12,
   "metadata": {},
   "outputs": [
    {
     "data": {
      "text/plain": [
       "[1, 2, 3, 4, 1, 2, 3, 4, 1, 2, 3, 4]"
      ]
     },
     "execution_count": 12,
     "metadata": {},
     "output_type": "execute_result"
    }
   ],
   "source": [
    "lilili = list1 * 3      #리스트에 3번을 곱해 리스트가 3번 곱한만큼 반복하는걸 볼 수 있다.\n",
    "lilili"
   ]
  },
  {
   "cell_type": "markdown",
   "metadata": {},
   "source": [
    "리스트에서 값을 가져올떄 앞서 해본것 처럼 하나 하나 가져오는게 아닌 범위를 지정해 지정된 값만큼 데이터를 불러올 수 있다\n",
    "- 리스트[시작점:끝점]\n",
    "- 리스트[시작점:끝점:스탭]"
   ]
  },
  {
   "cell_type": "code",
   "execution_count": 13,
   "metadata": {},
   "outputs": [
    {
     "name": "stdout",
     "output_type": "stream",
     "text": [
      "[0, 1, 2]\n",
      "[0, 1, 2]\n",
      "[7, 8, 9]\n",
      "[0, 2, 4, 6, 8]\n"
     ]
    }
   ],
   "source": [
    "listData = [0, 1, 2, 3, 4, 5, 6, 7, 8, 9]\n",
    "print(listData[0:3])\n",
    "print(listData[:3]) #리스트에서 시작점이나 끝점을 적지 않으면 각각 0 과 마지막을 가르키게 된다.\n",
    "print(listData[7:])\n",
    "print(listData[::2])"
   ]
  },
  {
   "cell_type": "code",
   "execution_count": 15,
   "metadata": {},
   "outputs": [
    {
     "name": "stdout",
     "output_type": "stream",
     "text": [
      "[0, 1, 2, 3, 4, 5, 6, 7, 8, 9]\n",
      "[0, 1, 2, 3, 4, 5, 7, 8, 9]\n"
     ]
    }
   ],
   "source": [
    "print(listData)\n",
    "del listData[6]     #리스트는 del을 통해 값을 삭제할 수 있다. 여기서는 6번째 있는 6이 삭제되었음을 확인할 수 있다.\n",
    "print(listData)"
   ]
  },
  {
   "cell_type": "code",
   "execution_count": 17,
   "metadata": {},
   "outputs": [
    {
     "name": "stdout",
     "output_type": "stream",
     "text": [
      "True\n",
      "False\n"
     ]
    }
   ],
   "source": [
    "listData1 =  [1, 2, 3, 4, 5]\n",
    "print(5 in listData1)   # n in 리스트명 을 입력하여 찾고싶은 n값을 리스트에 존재하는지 bool값으로 반환되어 알 수 있다.\n",
    "print(6 in listData1)"
   ]
  },
  {
   "cell_type": "markdown",
   "metadata": {},
   "source": [
    "## 리스트 메서드\n",
    " \n",
    " - append() 리스트에서 항목 하나를 맨 마지막에 추가\n",
    " - insert() 리스트에서 특정 위치에 항목을 삽입 ex 리스트명.insert(1,'add') 리스트의 1번 자리에 'add' 라는 값을 추가\n",
    " - extend() 리스트에서 항목 여러 개를 맨 마지막에 추가   ex 리스트명.extend(['add1', 'add2']) \n",
    " - remove() 입력값과 첫 번쨰로 일치하는 항목을 리스트에서 삭제\n",
    " - pop() 리스트의 마지막 항목을 제거한 후에 반환\n",
    " - index() 리스트에서 인자와 일치하는 첫 번째 항목의 위치를 반환 \n",
    " - count() 리스트에서 인자와 일치하는 항목의 개수를 반환\n",
    " - sort() 숫자나 문자열로 구성된 리스트 항목을 순방향으로 정렬\n",
    " - reverse() 리스트 항목을 끝에서부터 역순으로 정렬 "
   ]
  },
  {
   "cell_type": "code",
   "execution_count": 18,
   "metadata": {},
   "outputs": [
    {
     "name": "stdout",
     "output_type": "stream",
     "text": [
      "['James', 'Robert', 'Lisa', 'mary']\n",
      "['James', 'Robert', 'Lisa', 'mary', 'Thomas']\n"
     ]
    }
   ],
   "source": [
    "# append()  \n",
    "myFriends = ['James', 'Robert', 'Lisa', 'mary']\n",
    "print(myFriends)\n",
    "myFriends.append('Thomas')\n",
    "print(myFriends)"
   ]
  },
  {
   "cell_type": "code",
   "execution_count": 19,
   "metadata": {},
   "outputs": [
    {
     "name": "stdout",
     "output_type": "stream",
     "text": [
      "['James', 'Robert', 'Lisa', 'mary']\n",
      "['James', 'Robert', 'jaewoo', 'Lisa', 'mary']\n"
     ]
    }
   ],
   "source": [
    "# insert()\n",
    "myFriends = ['James', 'Robert', 'Lisa', 'mary']\n",
    "print(myFriends)\n",
    "myFriends.insert(2, 'jaewoo')\n",
    "print(myFriends)"
   ]
  },
  {
   "cell_type": "code",
   "execution_count": 20,
   "metadata": {},
   "outputs": [
    {
     "name": "stdout",
     "output_type": "stream",
     "text": [
      "['James', 'Robert', 'Lisa', 'mary']\n",
      "['James', 'Robert', 'Lisa', 'mary', 'jae', 'woo']\n"
     ]
    }
   ],
   "source": [
    "#extend()   리스트형으로 입력해주자\n",
    "myFriends = ['James', 'Robert', 'Lisa', 'mary']\n",
    "print(myFriends)\n",
    "myFriends.extend(['jae', 'woo'])\n",
    "print(myFriends)"
   ]
  },
  {
   "cell_type": "code",
   "execution_count": 24,
   "metadata": {},
   "outputs": [
    {
     "name": "stdout",
     "output_type": "stream",
     "text": [
      "['James', 'Robert', 'Lisa', 'mary']\n",
      "['James', 'Robert', 'mary']\n"
     ]
    }
   ],
   "source": [
    "#remove()\n",
    "myFriends = ['James', 'Robert', 'Lisa', 'mary']\n",
    "print(myFriends)\n",
    "myFriends.remove('Lisa')\n",
    "print(myFriends)"
   ]
  },
  {
   "cell_type": "code",
   "execution_count": 27,
   "metadata": {},
   "outputs": [
    {
     "name": "stdout",
     "output_type": "stream",
     "text": [
      "[1, 2, 3, 5, 6, 5, 3, 1, 8, 7, 5]\n",
      "3\n"
     ]
    }
   ],
   "source": [
    "#count()\n",
    "num = [1, 2, 3, 5, 6, 5, 3, 1, 8, 7, 5]\n",
    "print(num)\n",
    "countNum = num.count(5)\n",
    "print(countNum)"
   ]
  },
  {
   "cell_type": "code",
   "execution_count": 33,
   "metadata": {},
   "outputs": [
    {
     "name": "stdout",
     "output_type": "stream",
     "text": [
      "['1', '7', '8', 'A', 'B', 'J', 'U', 'a', 'i']\n"
     ]
    }
   ],
   "source": [
    "#sort()\n",
    "mixedList = ['1' , 'A', 'a', '8', 'U', 'i', 'J', '7', 'B']\n",
    "mixedList.sort()\n",
    "print(mixedList)"
   ]
  },
  {
   "cell_type": "code",
   "execution_count": 35,
   "metadata": {},
   "outputs": [
    {
     "name": "stdout",
     "output_type": "stream",
     "text": [
      "[9, 8, 7, 6, 5, 4, 3, 2, 1]\n"
     ]
    }
   ],
   "source": [
    "# reverse()\n",
    "num = [1, 2, 3, 4, 5, 6, 7, 8, 9]\n",
    "num.reverse()\n",
    "print(num)"
   ]
  },
  {
   "cell_type": "markdown",
   "metadata": {},
   "source": [
    "# 튜플"
   ]
  },
  {
   "cell_type": "markdown",
   "metadata": {},
   "source": [
    "튜플은 리스트와 비슷하게 데이터 여러 개를 하나로 묶는 데 이용합니다.<br/><br/>\n",
    "튜플은 숫자, 문자열, 불, 리스트, 튜플, 세트, 딕셔너리 등으로 만들 수 있다.<br/><br/>\n",
    "튜플의 속성은 리스트와 유사하지만 단, 튜플 데이터는 한 번 입력하면 그 이후에는 항목을 변경할 수 없다."
   ]
  },
  {
   "cell_type": "code",
   "execution_count": 37,
   "metadata": {},
   "outputs": [
    {
     "data": {
      "text/plain": [
       "(1, 2, 3, 4)"
      ]
     },
     "execution_count": 37,
     "metadata": {},
     "output_type": "execute_result"
    }
   ],
   "source": [
    "tuple1 = (1, 2, 3, 4)\n",
    "tuple1"
   ]
  },
  {
   "cell_type": "code",
   "execution_count": 38,
   "metadata": {},
   "outputs": [
    {
     "data": {
      "text/plain": [
       "tuple"
      ]
     },
     "execution_count": 38,
     "metadata": {},
     "output_type": "execute_result"
    }
   ],
   "source": [
    "type(tuple1)"
   ]
  },
  {
   "cell_type": "code",
   "execution_count": 40,
   "metadata": {},
   "outputs": [
    {
     "data": {
      "text/plain": [
       "(5, 6, 7, 8)"
      ]
     },
     "execution_count": 40,
     "metadata": {},
     "output_type": "execute_result"
    }
   ],
   "source": [
    "tuple2 = 5, 6, 7, 8 #튜플은 소괄호를 사용하지 않고 튜플을 생성할 수 있다.\n",
    "tuple2"
   ]
  },
  {
   "cell_type": "markdown",
   "metadata": {},
   "source": [
    "다음은 인자가 하나만 있는 튜플을 생성하는 방법이다.<br/><br/>\n",
    "하나의 항목만 가진 튜플을 생성할 때는 항목을 입력한 후에 반드시 콤마를 입력해야 한다.<br/><br/>\n",
    "소괄호의 유무에 상관없이 모두 콤마를 입력해야한다."
   ]
  },
  {
   "cell_type": "code",
   "execution_count": 6,
   "metadata": {},
   "outputs": [
    {
     "name": "stdout",
     "output_type": "stream",
     "text": [
      "(9,)\n",
      "(10,)\n"
     ]
    }
   ],
   "source": [
    "tuple3 = (9,)\n",
    "tuple4 = 10,\n",
    "print(tuple3)\n",
    "print(tuple4)"
   ]
  },
  {
   "cell_type": "code",
   "execution_count": 8,
   "metadata": {},
   "outputs": [
    {
     "ename": "TypeError",
     "evalue": "'tuple' object does not support item assignment",
     "output_type": "error",
     "traceback": [
      "\u001b[0;31m---------------------------------------------------------------------------\u001b[0m",
      "\u001b[0;31mTypeError\u001b[0m                                 Traceback (most recent call last)",
      "Cell \u001b[0;32mIn[8], line 2\u001b[0m\n\u001b[1;32m      1\u001b[0m tuple5 \u001b[38;5;241m=\u001b[39m (\u001b[38;5;241m1\u001b[39m, \u001b[38;5;241m2\u001b[39m, \u001b[38;5;241m3\u001b[39m, \u001b[38;5;241m4\u001b[39m)\n\u001b[0;32m----> 2\u001b[0m \u001b[43mtuple5\u001b[49m\u001b[43m[\u001b[49m\u001b[38;5;241;43m1\u001b[39;49m\u001b[43m]\u001b[49m \u001b[38;5;241m=\u001b[39m \u001b[38;5;241m5\u001b[39m       \u001b[38;5;66;03m#한번 생성된 튜플의 요서는 변경되지 않는다.\u001b[39;00m\n",
      "\u001b[0;31mTypeError\u001b[0m: 'tuple' object does not support item assignment"
     ]
    }
   ],
   "source": [
    "tuple5 = (1,2,3,4)  #컴파일 오류\n",
    "tuple5[1] = 5       #한번 생성된 튜플의 요서는 변경되지 않는다."
   ]
  },
  {
   "cell_type": "code",
   "execution_count": 45,
   "metadata": {},
   "outputs": [
    {
     "ename": "SyntaxError",
     "evalue": "invalid syntax (294072901.py, line 1)",
     "output_type": "error",
     "traceback": [
      "\u001b[0;36m  Cell \u001b[0;32mIn[45], line 1\u001b[0;36m\u001b[0m\n\u001b[0;31m    del.tuple5[1]   # 삭제도 불가능하다.\u001b[0m\n\u001b[0m       ^\u001b[0m\n\u001b[0;31mSyntaxError\u001b[0m\u001b[0;31m:\u001b[0m invalid syntax\n"
     ]
    }
   ],
   "source": [
    "del.tuple5[1]   # 컴파일 오류 삭제 역시 불가능하다."
   ]
  },
  {
   "cell_type": "code",
   "execution_count": 49,
   "metadata": {},
   "outputs": [
    {
     "name": "stdout",
     "output_type": "stream",
     "text": [
      "2\n",
      "3\n"
     ]
    }
   ],
   "source": [
    "tuple6 = ('a', 'b', 'c', 'a', 'd', 'e', 'f', 'a')\n",
    "print(tuple6.index('c'))   #삭제하거나 변경하는 메서드는 사용하지 못하지만 요소를 변경하지 않는 메서드는 사용가능하다.\n",
    "print(tuple6.count('a'))"
   ]
  },
  {
   "cell_type": "markdown",
   "metadata": {},
   "source": [
    "# 세트"
   ]
  },
  {
   "cell_type": "markdown",
   "metadata": {},
   "source": [
    "세트는 수학의 집합 개념을 파이썬에서 이용할 수 있도록 만든 데이터 타입이다. <br/><br/>\n",
    "세트가 리스트, 튜플과 다른 점은 데이터의 순서가 없고 데이터를 중복해서 쓸 수 없다. <br/><br/>\n",
    "세트는 앞서 사용한 메서드에 더해서 교집합, 합집합, 차집합을 구하는 메서드를 사용할 수 있다."
   ]
  },
  {
   "cell_type": "code",
   "execution_count": 51,
   "metadata": {},
   "outputs": [
    {
     "name": "stdout",
     "output_type": "stream",
     "text": [
      "{1, 2, 3}\n",
      "{1, 2, 3, 4}\n"
     ]
    }
   ],
   "source": [
    "set1 = {1,2,3}\n",
    "set11 = {1,4,2,3,3}   #세트에서는 순서가 존재하지 않고 데이터를 중복해서 쓸 수 없다.\n",
    "print(set1)\n",
    "print(set11)"
   ]
  },
  {
   "cell_type": "markdown",
   "metadata": {},
   "source": [
    "### 세트의 교집합, 합집합, 차집합 구하기"
   ]
  },
  {
   "cell_type": "code",
   "execution_count": 53,
   "metadata": {},
   "outputs": [
    {
     "name": "stdout",
     "output_type": "stream",
     "text": [
      "{4, 5}\n",
      "{1, 2, 3, 4, 5, 6, 7, 8, 9, 10}\n",
      "{1, 2, 3}\n"
     ]
    }
   ],
   "source": [
    "A = {1,2,3,4,5}\n",
    "B = {4,5,6,7,8,9,10}\n",
    "\n",
    "print(A.intersection(B))    #집합 A에 대한 집합 B의 교집합\n",
    "print(A.union(B))           #집합 A에 대한 집합 B의 합집합\n",
    "print(A.difference(B))      #집합 A에 대한 집합 B의 차집합"
   ]
  },
  {
   "cell_type": "code",
   "execution_count": 56,
   "metadata": {},
   "outputs": [
    {
     "name": "stdout",
     "output_type": "stream",
     "text": [
      "{4, 5}\n",
      "{1, 2, 3, 4, 5, 6, 7, 8, 9, 10}\n",
      "{1, 2, 3}\n"
     ]
    }
   ],
   "source": [
    "#메서드가 아닌 기호로 간단하게 사용할 수 있다.\n",
    "print(A&B)      #집합 A에 대한 집합 B의 교집합\n",
    "print(A|B)      #집합 A에 대한 집합 B의 합집합\n",
    "print(A-B)      #집합 A에 대한 집합 B의 차집합"
   ]
  },
  {
   "cell_type": "markdown",
   "metadata": {},
   "source": [
    "### 리스트,튜플,세트 캐스팅\n",
    "\n",
    "다른 언어들과 동일하게 원하는 타입을 씌워줌으로 쉽게 캐스팅이 가능하다."
   ]
  },
  {
   "cell_type": "code",
   "execution_count": 2,
   "metadata": {},
   "outputs": [
    {
     "data": {
      "text/plain": [
       "list"
      ]
     },
     "execution_count": 2,
     "metadata": {},
     "output_type": "execute_result"
    }
   ],
   "source": [
    "a = [1,2,3,4,5] # a라는 이름의 리스트 생성\n",
    "type(a)"
   ]
  },
  {
   "cell_type": "code",
   "execution_count": 4,
   "metadata": {},
   "outputs": [
    {
     "data": {
      "text/plain": [
       "tuple"
      ]
     },
     "execution_count": 4,
     "metadata": {},
     "output_type": "execute_result"
    }
   ],
   "source": [
    "b = tuple(a)\n",
    "type(b)"
   ]
  },
  {
   "cell_type": "code",
   "execution_count": 5,
   "metadata": {},
   "outputs": [
    {
     "data": {
      "text/plain": [
       "set"
      ]
     },
     "execution_count": 5,
     "metadata": {},
     "output_type": "execute_result"
    }
   ],
   "source": [
    "c = set(a)\n",
    "type(c)"
   ]
  },
  {
   "cell_type": "markdown",
   "metadata": {},
   "source": [
    "## 딕셔너리\n",
    "딕셔너리에는 각각의 key와 value값이 존재한다. 이처럼 딕셔너리에는 키와 벨류가 쌍으로 구성됨을 알 수 있다.<br/><br/>\n",
    "리스트나 튜플 에서는 index 값을 이용하여 학목을 다뤘지만 딕셔너리는 키를 이용해 값을 다룬다. <br/><br/>\n",
    "딕셔너리의 키는 임의로 지정된 수샂나 문자열이 될 수 있으며, value값으로는 어떤 데이터 타입도 사용이 가능하다."
   ]
  },
  {
   "cell_type": "code",
   "execution_count": 1,
   "metadata": {},
   "outputs": [
    {
     "data": {
      "text/plain": [
       "{'영국': '런던', '프랑스': '파리', '스위스': '베른', '호주': '멜버른', '덴마크': '코펜하겐'}"
      ]
     },
     "execution_count": 1,
     "metadata": {},
     "output_type": "execute_result"
    }
   ],
   "source": [
    "country_capital = {\"영국\":\"런던\", \"프랑스\":\"파리\", \"스위스\":\"베른\", \"호주\":\"멜버른\", \"덴마크\":\"코펜하겐\"}\n",
    "country_capital"
   ]
  },
  {
   "cell_type": "code",
   "execution_count": 2,
   "metadata": {},
   "outputs": [
    {
     "data": {
      "text/plain": [
       "'런던'"
      ]
     },
     "execution_count": 2,
     "metadata": {},
     "output_type": "execute_result"
    }
   ],
   "source": [
    "country_capital[\"영국\"] #영국의 value값인 런던이 출력된다."
   ]
  },
  {
   "cell_type": "code",
   "execution_count": 4,
   "metadata": {},
   "outputs": [
    {
     "name": "stdout",
     "output_type": "stream",
     "text": [
      "{'list_data1': [11, 12, 13], 'list_data2': [21, 22, 23]}\n",
      "[21, 22, 23]\n"
     ]
    }
   ],
   "source": [
    "#value값이 리스트인 딕셔너리\n",
    "dict_data = {\"list_data1\":[11,12,13], \"list_data2\":[21,22,23]}  \n",
    "print(dict_data)\n",
    "print(dict_data[\"list_data2\"])"
   ]
  },
  {
   "cell_type": "code",
   "execution_count": 7,
   "metadata": {},
   "outputs": [
    {
     "data": {
      "text/plain": [
       "{'영국': '런던', '프랑스': '파리', '스위스': '베른', '호주': '캔버라', '덴마크': '코펜하겐', '독일': '베를린'}"
      ]
     },
     "execution_count": 7,
     "metadata": {},
     "output_type": "execute_result"
    }
   ],
   "source": [
    "#딕셔너리에 데이터 추가하고 변경하기\n",
    "country_capital[\"독일\"] = \"베를린\"  #키값이 존재하면 변경하고 없으면 추가된다.\n",
    "country_capital[\"호주\"] = \"캔버라\"\n",
    "country_capital"
   ]
  },
  {
   "cell_type": "code",
   "execution_count": 8,
   "metadata": {},
   "outputs": [
    {
     "data": {
      "text/plain": [
       "{'영국': '런던', '프랑스': '파리', '스위스': '베른', '호주': '캔버라', '독일': '베를린'}"
      ]
     },
     "execution_count": 8,
     "metadata": {},
     "output_type": "execute_result"
    }
   ],
   "source": [
    "del country_capital[\"덴마크\"]   #원하는 키값을 삭제할 수 있다.\n",
    "country_capital"
   ]
  },
  {
   "cell_type": "markdown",
   "metadata": {},
   "source": [
    "### 딕셔너리 메서드\n",
    " - keys() 딕셔너리에서 key 전체를 리스트 형태로 반환\n",
    " - values() 딕셔너리에서 value값 전체를 리스트 형태로 반환\n",
    " - items() 딕셔너리에서 key와 value값의 쌍을(key,vlue)처럼 튜플 형태로 반환\n",
    " - update() 딕셔너리에 데이터 추가\n",
    " - clear() 딕셔너리의 '모든' 항목 제거"
   ]
  },
  {
   "cell_type": "code",
   "execution_count": 11,
   "metadata": {},
   "outputs": [
    {
     "name": "stdout",
     "output_type": "stream",
     "text": [
      "dict_keys(['사과', '배', '딸기', '포도', '바나나'])\n",
      "dict_values([101, 102, 103, 104, 105])\n",
      "dict_items([('사과', 101), ('배', 102), ('딸기', 103), ('포도', 104), ('바나나', 105)])\n"
     ]
    }
   ],
   "source": [
    "fruit_code = {\"사과\":101, \"배\":102, \"딸기\":103, \"포도\":104, \"바나나\":105}\n",
    "print(fruit_code.keys())\n",
    "print(fruit_code.values())\n",
    "print(fruit_code.items())"
   ]
  },
  {
   "cell_type": "code",
   "execution_count": 12,
   "metadata": {},
   "outputs": [
    {
     "name": "stdout",
     "output_type": "stream",
     "text": [
      "['사과', '배', '딸기', '포도', '바나나']\n",
      "[101, 102, 103, 104, 105]\n",
      "[('사과', 101), ('배', 102), ('딸기', 103), ('포도', 104), ('바나나', 105)]\n"
     ]
    }
   ],
   "source": [
    "#위에서 각각의 데이터 형태를 값으로 변환하지 못하게 하기위해 딕셔너리를 list로 캐스팅하여 데이터를 처리하면 편리하다.\n",
    "print(list(fruit_code.keys()))\n",
    "print(list(fruit_code.values()))\n",
    "print(list(fruit_code.items()))"
   ]
  },
  {
   "cell_type": "code",
   "execution_count": 13,
   "metadata": {},
   "outputs": [
    {
     "data": {
      "text/plain": [
       "{'사과': 101, '배': 102, '딸기': 103, '포도': 104, '바나나': 105, '오렌지': 106, '수박': 107}"
      ]
     },
     "execution_count": 13,
     "metadata": {},
     "output_type": "execute_result"
    }
   ],
   "source": [
    "#update()를 통한 새로운 데이터 추가\n",
    "fruit_code2 = {\"오렌지\":106, \"수박\":107}\n",
    "fruit_code.update(fruit_code2)\n",
    "fruit_code"
   ]
  },
  {
   "cell_type": "code",
   "execution_count": 14,
   "metadata": {},
   "outputs": [
    {
     "name": "stdout",
     "output_type": "stream",
     "text": [
      "{}\n"
     ]
    }
   ],
   "source": [
    "#clear()를 통해 딕셔너리 내 모든 항목을 삭제할 수 있다.\n",
    "fruit_code2.clear()\n",
    "print(fruit_code2)"
   ]
  },
  {
   "cell_type": "code",
   "execution_count": null,
   "metadata": {},
   "outputs": [],
   "source": []
  }
 ],
 "metadata": {
  "kernelspec": {
   "display_name": "base",
   "language": "python",
   "name": "python3"
  },
  "language_info": {
   "codemirror_mode": {
    "name": "ipython",
    "version": 3
   },
   "file_extension": ".py",
   "mimetype": "text/x-python",
   "name": "python",
   "nbconvert_exporter": "python",
   "pygments_lexer": "ipython3",
   "version": "3.9.6"
  }
 },
 "nbformat": 4,
 "nbformat_minor": 2
}
