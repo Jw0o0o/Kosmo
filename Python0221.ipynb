{
 "cells": [
  {
   "cell_type": "markdown",
   "metadata": {},
   "source": [
    "# 02-21 강의 메모 "
   ]
  },
  {
   "cell_type": "markdown",
   "metadata": {},
   "source": [
    "조건문 if \n",
    "\n",
    "if 조건문 :\n",
    "    조건이 만족할 시 실행되는 부분"
   ]
  },
  {
   "cell_type": "code",
   "execution_count": 1,
   "metadata": {},
   "outputs": [
    {
     "name": "stdout",
     "output_type": "stream",
     "text": [
      "Pass\n"
     ]
    }
   ],
   "source": [
    "x = 95\n",
    "if x >= 90 :\n",
    "    print('Pass')"
   ]
  },
  {
   "cell_type": "markdown",
   "metadata": {},
   "source": [
    "조건에 따른 분기를 만들어 주기 위해 else문을 이용한다"
   ]
  },
  {
   "cell_type": "code",
   "execution_count": 2,
   "metadata": {},
   "outputs": [
    {
     "name": "stdout",
     "output_type": "stream",
     "text": [
      "Fail\n"
     ]
    }
   ],
   "source": [
    "x = 75\n",
    "if x >= 90:\n",
    "    print(\"Pass\")\n",
    "else:\n",
    "    print(\"Fail\")"
   ]
  },
  {
   "cell_type": "markdown",
   "metadata": {},
   "source": [
    "또한 pass fail 이 두가지 더 이상을 표현하기 위해서는 if ~ elif ~ else로도 표현이 가능하다."
   ]
  },
  {
   "cell_type": "code",
   "execution_count": null,
   "metadata": {},
   "outputs": [],
   "source": [
    "x = 85\n",
    "if x >= 90 :\n",
    "    print(\"Very Good\")\n",
    "elif (x >= 80) and (x < 90) :\n",
    "    print(\"Good\")\n",
    "else:\n",
    "    print(\"Bad\")"
   ]
  },
  {
   "cell_type": "markdown",
   "metadata": {},
   "source": [
    "연습 1 \n",
    "    학점을 출력할 수 있는 if문을 만들어라."
   ]
  },
  {
   "cell_type": "code",
   "execution_count": 9,
   "metadata": {},
   "outputs": [
    {
     "name": "stdout",
     "output_type": "stream",
     "text": [
      "B 학점입니다.\n"
     ]
    }
   ],
   "source": [
    "score = 80\n",
    "\n",
    "if (score >= 0) and (score <= 100) :    # score의 점수 범위 0~100 인지 유효성 검사\n",
    "    if score >= 90 :                    # 유효성 검사가 끝난 후 점수 범위안에서 학점을 출력\n",
    "        print(\"A 학점입니다.\")\n",
    "    elif (score >= 80) and (score < 90) :\n",
    "        print(\"B 학점입니다.\")\n",
    "    elif (score >= 70) and (score < 80) :\n",
    "        print(\"C 학점입니다.\")\n",
    "    elif (score >= 60) and (score < 70) :\n",
    "        print(\"D 학점입니다.\")\n",
    "    else :\n",
    "        print(\"F 학점입니다.\")\n",
    "else :\n",
    "    print(\"유효하지 않은 점수 범위입니다.\")\n",
    "\n"
   ]
  },
  {
   "cell_type": "markdown",
   "metadata": {},
   "source": [
    "input  함수 사용\n",
    "아무 프로그램을 열어봐도 이미 입력되어 있는 변수는 거의 없다. \n",
    "그러므로 input 함수를 사용해서 내가 직접 값을 입력해보자.\n",
    "\n",
    "name = input() << input을 받아 name이라는 변수에 저장\n",
    "print(name)    << 입력받은 name을 출력"
   ]
  },
  {
   "cell_type": "code",
   "execution_count": 13,
   "metadata": {},
   "outputs": [
    {
     "name": "stdout",
     "output_type": "stream",
     "text": [
      "재우\n",
      "안녕~ 재우씨 반가워요\n"
     ]
    }
   ],
   "source": [
    "#input Ex1\n",
    "name = input()\n",
    "print(name)\n",
    "print(\"안녕~\", name + \"씨 반가워요\")"
   ]
  },
  {
   "cell_type": "code",
   "execution_count": 18,
   "metadata": {},
   "outputs": [
    {
     "name": "stdout",
     "output_type": "stream",
     "text": [
      "이름입력 : 안녕~ ㅇㅇ씨 반가워요\n"
     ]
    }
   ],
   "source": [
    "#input Ex2\n",
    "print(\"이름입력 : \", end = \"\")  # , end = \"\"을 통해 java에서의 println 에서 print로 출력하는 결과를 얻을 수 있음\n",
    "name = input()\n",
    "print(\"안녕~\", name + \"씨 반가워요\")"
   ]
  },
  {
   "cell_type": "markdown",
   "metadata": {},
   "source": [
    "Input 예제 1 \n",
    "    고향을 물어보기 & 인사하기"
   ]
  },
  {
   "cell_type": "code",
   "execution_count": 19,
   "metadata": {},
   "outputs": [
    {
     "name": "stdout",
     "output_type": "stream",
     "text": [
      "당신의 고향은 어디인가요? 아름다운 서울 출신이군요\n"
     ]
    }
   ],
   "source": [
    "print(\"당신의 고향은 어디인가요? \", end = \"\")\n",
    "country = input()\n",
    "print(\"아름다운\", country, \"출신이군요\")"
   ]
  },
  {
   "cell_type": "markdown",
   "metadata": {},
   "source": [
    "Input 에제 2\n",
    "    좋아하는 색상과 동물을 물어보기"
   ]
  },
  {
   "cell_type": "code",
   "execution_count": 21,
   "metadata": {},
   "outputs": [
    {
     "name": "stdout",
     "output_type": "stream",
     "text": [
      "무슨 색을 좋아해요? 어떤 동물을 좋아해요? 그럼 %s %s를 좋아하겠군요. dd dddd\n"
     ]
    }
   ],
   "source": [
    "print(\"무슨 색을 좋아해요? \", end = \"\")\n",
    "color = input()\n",
    "print(\"어떤 동물을 좋아해요? \", end = \"\")\n",
    "animal = input()\n",
    "print(\"그럼\", color, animal, \"를 좋아하겠군요.\")"
   ]
  },
  {
   "cell_type": "markdown",
   "metadata": {},
   "source": [
    "input으로 숫자를 입력해도 string으로 저장되기 때문에 숫자를 입력해서 가공하고 싶으면 int형으로 캐스팅을 하자"
   ]
  },
  {
   "cell_type": "markdown",
   "metadata": {},
   "source": [
    "Input 예제 3\n",
    "    나이를 묻는 프로그램을 작성"
   ]
  },
  {
   "cell_type": "code",
   "execution_count": null,
   "metadata": {},
   "outputs": [],
   "source": [
    "print(\"당신은 몇 살 인가요? \", end = \"\")\n",
    "age = int(input())\n",
    "print(\"당신은\", age, \"살 이군요\")\n",
    "nextAge = age +1\n",
    "print(\"내년에는\", nextAge, \"살이 되겠군요.\")"
   ]
  },
  {
   "cell_type": "markdown",
   "metadata": {},
   "source": [
    "Input 예제 4\n",
    "    원의 지름을 입력 받아 원의 넓이와 둘레를 계산한 후 출력하는 프로그램을 작성하시오.\n"
   ]
  },
  {
   "cell_type": "code",
   "execution_count": 2,
   "metadata": {},
   "outputs": [
    {
     "name": "stdout",
     "output_type": "stream",
     "text": [
      "원의 반지름을 입력 받아 원의 넓이와 둘레를 계산하는 프로그램입니다.\n",
      "원의 반지름을 입력해주세요 : 원의 둘레는 : 12.56 이고, 넓이는 : 12.56 입니다.\n"
     ]
    }
   ],
   "source": [
    "print(\"원의 반지름을 입력 받아 원의 넓이와 둘레를 계산하는 프로그램입니다.\")\n",
    "print(\"원의 반지름을 입력해주세요 : \", end = \"\")\n",
    "radius = float(input())\n",
    "PI = 3.14\n",
    "round = radius * 2 * PI\n",
    "area = radius * radius * PI\n",
    "print(\"원의 둘레는 :\", round, \"이고, 넓이는 :\", area, \"입니다.\" )"
   ]
  },
  {
   "cell_type": "markdown",
   "metadata": {},
   "source": [
    "중첩 if문 예제 1\n",
    "사용자가 입력한 임의의 정수에 대하여.\n",
    "1. 0 이하라면 \"관심없음\" 출력\n",
    "2. 0 초과라면 아래 조건을 검토\n",
    "    - 2의 배수 > \"양수이면서 2의 배수\"\n",
    "    - 7의 배수 > \"양수이면서 7의 배수\"\n",
    "    - 14의 배수 > \"양수이면서 14의 배수\"\n",
    "    - 그 외 나머지는 \"양수\"를 출력"
   ]
  },
  {
   "cell_type": "code",
   "execution_count": null,
   "metadata": {},
   "outputs": [],
   "source": [
    "print(\"임의의 정수를 입력해주세요 : \", end = \"\")\n",
    "num = input()\n",
    "if num < 0 :\n",
    "    if num % 14 == 0 and num & 7 == 0 :\n",
    "        print(\"양수이면서 14의 배수\")\n",
    "    elif num % 2 == 0 :\n",
    "        print(\"양수이면서 2의 배수\")\n",
    "    elif num % 7 == 0 :\n",
    "        print(\"양수이면서 7의 배수\")\n",
    "    else :\n",
    "        print(\"양수\")\n",
    "else :\n",
    "    print(\"관심 없음\")"
   ]
  },
  {
   "cell_type": "markdown",
   "metadata": {},
   "source": [
    "반목문 for"
   ]
  },
  {
   "cell_type": "code",
   "execution_count": 9,
   "metadata": {},
   "outputs": [
    {
     "name": "stdout",
     "output_type": "stream",
     "text": [
      "0\n",
      "1\n",
      "2\n",
      "3\n",
      "4\n",
      "5\n"
     ]
    }
   ],
   "source": [
    "for a in[0, 1, 2, 3, 4, 5] :\n",
    "    print(a)"
   ]
  },
  {
   "cell_type": "markdown",
   "metadata": {},
   "source": [
    "range() 함수를 이용해보자\n",
    "    range(시작점, 끝점, 스탭)"
   ]
  },
  {
   "cell_type": "code",
   "execution_count": null,
   "metadata": {},
   "outputs": [],
   "source": [
    "print(range(0,10,1))    \n",
    "print(list(range(10)))  # 시작점과 스탭을 입력하지 않아도 출력이 된다."
   ]
  },
  {
   "cell_type": "code",
   "execution_count": 11,
   "metadata": {},
   "outputs": [
    {
     "name": "stdout",
     "output_type": "stream",
     "text": [
      "[0, 5, 10, 15]\n",
      "[]\n",
      "[-10, -8, -6, -4, -2]\n"
     ]
    }
   ],
   "source": [
    "print(list(range(0, 20, 5)))\n",
    "print(list(range(0, -20, 5)))   #도착점이 -20 인데 5씩 증가할 순 없음\n",
    "print(list(range(-10, 0, 2))) \n",
    "# 시작점이 -10부터 0까지의 출력 중요한건 끝점은 출력이 안됨"
   ]
  },
  {
   "cell_type": "markdown",
   "metadata": {},
   "source": [
    "for 문도 if와 같이 중첩사용이 가능하다!"
   ]
  },
  {
   "cell_type": "code",
   "execution_count": 12,
   "metadata": {},
   "outputs": [
    {
     "name": "stdout",
     "output_type": "stream",
     "text": [
      "x y\n",
      "x1 y1\n",
      "x1 y2\n",
      "x2 y1\n",
      "x2 y2\n"
     ]
    }
   ],
   "source": [
    "x_list = ['x1', 'x2']\n",
    "y_list = ['y1', 'y2']\n",
    "\n",
    "print(\"x y\")\n",
    "for x in x_list:\n",
    "    for y in y_list:\n",
    "        print(x,y)"
   ]
  },
  {
   "cell_type": "code",
   "execution_count": null,
   "metadata": {},
   "outputs": [],
   "source": [
    "names = ['James', 'Robert', 'Lisa', 'Mary'] \n",
    "scores = [95, 96, 97, 94]\n",
    "for k in range(len(names)):\n",
    "    print(names[k], scores[k])\n",
    "\n",
    "# 여기서 range() 는 len(names)의 길이가 4 이기 때문에\n",
    "# range(0,4,1) 과 동일한 역할을 가진다"
   ]
  },
  {
   "cell_type": "markdown",
   "metadata": {},
   "source": [
    "range 예제\n",
    "    3개의 변수를 짝지어 보자"
   ]
  },
  {
   "cell_type": "code",
   "execution_count": 16,
   "metadata": {},
   "outputs": [
    {
     "name": "stdout",
     "output_type": "stream",
     "text": [
      "A a 1\n",
      "B b 2\n",
      "C c 3\n",
      "D d 4\n"
     ]
    }
   ],
   "source": [
    "A = ['A', 'B', 'C', 'D']\n",
    "a = ['a', 'b', 'c', 'd']\n",
    "b = ['1', '2', '3', '4']\n",
    "\n",
    "for i in range(len(A)):\n",
    "    print(A[i], a[i], b[i])"
   ]
  },
  {
   "cell_type": "markdown",
   "metadata": {},
   "source": [
    "전날 zip() 함수를 사용할때 사실은 zip 이라는 for문이 돌아가고 있음"
   ]
  },
  {
   "cell_type": "code",
   "execution_count": null,
   "metadata": {},
   "outputs": [],
   "source": [
    "for name, score in zip(names, scores):\n",
    "    print(name, score)"
   ]
  },
  {
   "cell_type": "markdown",
   "metadata": {},
   "source": [
    "문제 1 \n",
    "    리스트에는 네 개의 정수가 저장돼 있다.\n",
    "    리스트 = [ 3, -20, -3, 44]\n",
    "    for문을 사용하여 리스트의 음수를 출력하라."
   ]
  },
  {
   "cell_type": "code",
   "execution_count": 19,
   "metadata": {},
   "outputs": [
    {
     "name": "stdout",
     "output_type": "stream",
     "text": [
      "-20\n",
      "-3\n"
     ]
    }
   ],
   "source": [
    "ilist = [3, -20, -3, 44]\n",
    "for i in ilist :\n",
    "    if i < 0 :\n",
    "        print(i)"
   ]
  },
  {
   "cell_type": "markdown",
   "metadata": {},
   "source": [
    "문제 2\n",
    "    for문을 사용해서 3의 배수만을 출력하라.\n",
    "    리스트 = [3, 100, 23, 44]"
   ]
  },
  {
   "cell_type": "code",
   "execution_count": 20,
   "metadata": {},
   "outputs": [
    {
     "name": "stdout",
     "output_type": "stream",
     "text": [
      "3\n"
     ]
    }
   ],
   "source": [
    "i = [3, 100, 23, 44]\n",
    "\n",
    "for j in i :\n",
    "    if j % 3 == 0 :\n",
    "        print(j)"
   ]
  },
  {
   "cell_type": "markdown",
   "metadata": {},
   "source": [
    "문제 3\n",
    "    리스트에서 20 보다 작은 3의 배수를 출력하라.\n",
    "    리스트 = [13, 21, 12, 14, 30, 18]"
   ]
  },
  {
   "cell_type": "code",
   "execution_count": 21,
   "metadata": {},
   "outputs": [
    {
     "name": "stdout",
     "output_type": "stream",
     "text": [
      "12\n",
      "18\n"
     ]
    }
   ],
   "source": [
    "i = [13, 21, 12, 14, 30, 18]\n",
    "\n",
    "for j in i :\n",
    "    if j % 3 == 0 and j < 20:\n",
    "        print(j)"
   ]
  },
  {
   "cell_type": "markdown",
   "metadata": {},
   "source": [
    "<li> 문제 4 \n",
    "    <li>리스트에서 대문자만 화면에 출력하라.\n",
    "    <li> 리스트 = [\"A\", \"b\", \"c\", \"D\"]\n",
    "    <li>변수.isupper()  << 대문자인지 bool값으로 결과가 나옴"
   ]
  },
  {
   "cell_type": "code",
   "execution_count": 22,
   "metadata": {},
   "outputs": [
    {
     "name": "stdout",
     "output_type": "stream",
     "text": [
      "A\n",
      "D\n"
     ]
    }
   ],
   "source": [
    "i = [\"A\", \"b\", \"c\", \"D\"]\n",
    "\n",
    "for j in i :\n",
    "    if j.isupper() == True :\n",
    "        print(j)"
   ]
  },
  {
   "cell_type": "markdown",
   "metadata": {},
   "source": [
    "문제 5\n",
    "월드컵은 4년에 한 번 개최된다. range()를 사용하여 2002~2050년 까지 중 월드컵이 개최되는 연도를 출력하라."
   ]
  },
  {
   "cell_type": "code",
   "execution_count": 24,
   "metadata": {},
   "outputs": [
    {
     "name": "stdout",
     "output_type": "stream",
     "text": [
      "range(2002, 2051, 4)\n"
     ]
    }
   ],
   "source": [
    "print(list(range(2002,2051,4))) #항상 range의 끝값은 주어진 값 +1"
   ]
  },
  {
   "cell_type": "markdown",
   "metadata": {},
   "source": [
    "문제 6\n",
    "for문을 사용하여 0.0, 0.1 ~ 0.9 까지 출력하라"
   ]
  },
  {
   "cell_type": "code",
   "execution_count": 30,
   "metadata": {},
   "outputs": [
    {
     "name": "stdout",
     "output_type": "stream",
     "text": [
      "0.0\n",
      "0.1\n",
      "0.2\n",
      "0.3\n",
      "0.4\n",
      "0.5\n",
      "0.6\n",
      "0.7\n",
      "0.8\n",
      "0.9\n"
     ]
    }
   ],
   "source": [
    "for i in range(10) :\n",
    "    print(i / 10)"
   ]
  },
  {
   "cell_type": "markdown",
   "metadata": {},
   "source": [
    "문제 7\n",
    "구구단 3단을 출력하라. 단 홀수 번째만 출력한다."
   ]
  },
  {
   "cell_type": "code",
   "execution_count": 37,
   "metadata": {},
   "outputs": [
    {
     "name": "stdout",
     "output_type": "stream",
     "text": [
      "3x 1 = 3\n",
      "3x 3 = 9\n",
      "3x 5 = 15\n",
      "3x 7 = 21\n",
      "3x 9 = 27\n"
     ]
    }
   ],
   "source": [
    "for num in range(1, 10, 2) :\n",
    "    print(\"3x\", num, \"=\", num*3)"
   ]
  },
  {
   "cell_type": "code",
   "execution_count": 38,
   "metadata": {},
   "outputs": [
    {
     "name": "stdout",
     "output_type": "stream",
     "text": [
      "3 x 1 = 3\n",
      "3 x 3 = 9\n",
      "3 x 5 = 15\n",
      "3 x 7 = 21\n",
      "3 x 9 = 27\n"
     ]
    }
   ],
   "source": [
    "num = 3\n",
    "for i in range(1, 10) :\n",
    "    if i % 2 == 1 :\n",
    "        print(num, \"x\", i, \"=\", num * i)"
   ]
  },
  {
   "cell_type": "markdown",
   "metadata": {},
   "source": [
    "문제 8\n",
    "1~10 까지의 숫자에 대해 모두 더한 값을 출력하는 프로그램을 for 문을 사용하여 작성하라."
   ]
  },
  {
   "cell_type": "code",
   "execution_count": 54,
   "metadata": {},
   "outputs": [
    {
     "name": "stdout",
     "output_type": "stream",
     "text": [
      "55\n"
     ]
    }
   ],
   "source": [
    "sum = 0     # 자바와 달리 sum = 0 이라고 int형으로 지정해줘야 함\n",
    "for i in range(1, 11) :\n",
    "   sum += i\n",
    "print(sum)"
   ]
  },
  {
   "cell_type": "markdown",
   "metadata": {},
   "source": []
  },
  {
   "cell_type": "markdown",
   "metadata": {},
   "source": [
    "문제 9\n",
    "아래와 같이 리스트의 데이터를 출력하라. 단, for문과 range문을 사용하라.\n",
    "price_list = [32100, 32150, 32000, 32500]"
   ]
  },
  {
   "cell_type": "code",
   "execution_count": 50,
   "metadata": {},
   "outputs": [
    {
     "name": "stdout",
     "output_type": "stream",
     "text": [
      "0 32100\n",
      "1 32150\n",
      "2 32000\n",
      "3 32500\n"
     ]
    }
   ],
   "source": [
    "price_list = [32100, 32150, 32000, 32500]\n",
    "\n",
    "for i in range(len(price_list)) :\n",
    "    print(i, price_list[i])"
   ]
  },
  {
   "cell_type": "markdown",
   "metadata": {},
   "source": [
    "문제 10\n",
    "my_list를 아래와 같이 출력하라.\n",
    "my_list = [\"가\", \"나\", \"다\", \"라\"]\n",
    "\n",
    "가 나\n",
    "나 다\n",
    "다 라"
   ]
  },
  {
   "cell_type": "code",
   "execution_count": 53,
   "metadata": {},
   "outputs": [
    {
     "name": "stdout",
     "output_type": "stream",
     "text": [
      "가 나\n",
      "나 다\n",
      "다 라\n"
     ]
    }
   ],
   "source": [
    "my_list = [\"가\", \"나\", \"다\", \"라\"]\n",
    "\n",
    "for i in range(len(my_list) - 1) :\n",
    "    print(my_list[i], my_list[i + 1])"
   ]
  },
  {
   "cell_type": "markdown",
   "metadata": {},
   "source": [
    "문제 11\n",
    "리스트에는 6일 간의 종가 데이터가 저장되어 있다. \n",
    "종가 데이터의 3일 이동 평균을 계산하고 이를 화면에 출력하라.\n",
    "my_list = [100, 200, 400, 800, 1000, 1300]\n",
    "첫 번째 줄에는 100, 200, 400의 평균값이 출력된다.\n",
    "두 번째 줄에는 200, 400, 800의 평균값이 출력된다."
   ]
  },
  {
   "cell_type": "code",
   "execution_count": 58,
   "metadata": {},
   "outputs": [
    {
     "name": "stdout",
     "output_type": "stream",
     "text": [
      "233.33333333333334\n",
      "466.6666666666667\n",
      "733.3333333333334\n",
      "1033.3333333333333\n"
     ]
    }
   ],
   "source": [
    "my_list = [100, 200, 400, 800, 1000, 1300]\n",
    "avg = 0\n",
    "for i in range(4) :\n",
    "    avg = (my_list[i] + my_list[i+1] + my_list[i+2]) / 3\n",
    "    print(avg)"
   ]
  },
  {
   "cell_type": "markdown",
   "metadata": {},
   "source": [
    "문제 12\n",
    "리스트에 5일간의 저가, 고가 정보가 저장돼 있다. 고가와 저가의 차를 변동폭이라고 정의할 때, low, high 두 개의 리스트를 사용해서 5일간의 변동폭을 volatility 리스트에 저장하라.\n",
    "low_prices  = [100, 200, 400, 800, 1000]\n",
    "high_prices = [150, 300, 430, 880, 1000]"
   ]
  },
  {
   "cell_type": "code",
   "execution_count": 61,
   "metadata": {},
   "outputs": [
    {
     "name": "stdout",
     "output_type": "stream",
     "text": [
      "[50, 100, 30, 80, 0]\n"
     ]
    }
   ],
   "source": [
    "low_prices  = [100, 200, 400, 800, 1000]\n",
    "high_prices = [150, 300, 430, 880, 1000]\n",
    "volatility = []\n",
    "\n",
    "for i in range(len(low_prices)) :\n",
    "    volatility.append(high_prices[i] - low_prices[i])\n",
    "\n",
    "print(list(volatility))"
   ]
  },
  {
   "cell_type": "markdown",
   "metadata": {},
   "source": [
    "## while문"
   ]
  },
  {
   "cell_type": "code",
   "execution_count": 62,
   "metadata": {},
   "outputs": [
    {
     "name": "stdout",
     "output_type": "stream",
     "text": [
      "i sum\n",
      "1 1\n",
      "2 3\n",
      "3 6\n",
      "4 10\n",
      "5 15\n",
      "6 21\n"
     ]
    }
   ],
   "source": [
    "i = 0     # 초기화\n",
    "sum = 0   # 초기화\n",
    "\n",
    "print(\"i sum\")\n",
    "while (sum < 20):  # 조건 검사\n",
    "    i = i + 1      # i를 1씩 증가\n",
    "    sum = sum + i  # 이전의 sum과 현재 i를 더해서 sum을 갱신\n",
    "    print(i, sum)  # i와 sum을 출력"
   ]
  },
  {
   "cell_type": "code",
   "execution_count": 63,
   "metadata": {},
   "outputs": [
    {
     "name": "stdout",
     "output_type": "stream",
     "text": [
      "1\n",
      "2\n",
      "3\n"
     ]
    }
   ],
   "source": [
    "k=0\n",
    "while True: \n",
    "    k = k + 1 \n",
    "    \n",
    "    if(k > 3): # k가 3보다 크면 break\n",
    "        break\n",
    "        \n",
    "    print(k)  "
   ]
  },
  {
   "cell_type": "markdown",
   "metadata": {},
   "source": [
    "### 리스트 컴프리헨션"
   ]
  },
  {
   "cell_type": "code",
   "execution_count": null,
   "metadata": {},
   "outputs": [],
   "source": [
    "numbers = [1,2,3,4,5]\n",
    "square = []\n",
    "\n",
    "for i in numbers:\n",
    "    square.append(i**2)\n",
    "    \n",
    "print(square)"
   ]
  },
  {
   "cell_type": "code",
   "execution_count": null,
   "metadata": {},
   "outputs": [],
   "source": [
    "numbers = [1,2,3,4,5]\n",
    "square = [i**2 for i in numbers]\n",
    "print(square)"
   ]
  },
  {
   "cell_type": "markdown",
   "metadata": {},
   "source": [
    "###  조건문을 포함한 리스트 컴프리헨션"
   ]
  },
  {
   "cell_type": "code",
   "execution_count": null,
   "metadata": {},
   "outputs": [],
   "source": [
    "numbers = [1,2,3,4,5]\n",
    "square = []\n",
    "\n",
    "for i in numbers:\n",
    "    if i >= 3:\n",
    "        square.append(i**2)\n",
    "    \n",
    "print(square)"
   ]
  },
  {
   "cell_type": "code",
   "execution_count": null,
   "metadata": {},
   "outputs": [],
   "source": [
    "numbers = [1,2,3,4,5]\n",
    "square = [i**2 for i in numbers if i>=3]\n",
    "\n",
    "print(square)"
   ]
  },
  {
   "cell_type": "markdown",
   "metadata": {},
   "source": [
    "#### 문제풀이"
   ]
  },
  {
   "cell_type": "markdown",
   "metadata": {},
   "source": [
    "##### 문제 1"
   ]
  },
  {
   "cell_type": "markdown",
   "metadata": {},
   "source": [
    "##### 리스트에 저장된 데이터를 아래와 같이 출력하라."
   ]
  },
  {
   "cell_type": "markdown",
   "metadata": {},
   "source": [
    "apart = [ [101, 102], [201, 202], [301, 302] ]\n",
    "\n",
    "101 호\n",
    "102 호 \n",
    "103 호\n",
    "104 호"
   ]
  },
  {
   "cell_type": "code",
   "execution_count": 6,
   "metadata": {},
   "outputs": [
    {
     "name": "stdout",
     "output_type": "stream",
     "text": [
      "101 호\n",
      "102 호\n",
      "201 호\n",
      "202 호\n",
      "301 호\n",
      "302 호\n"
     ]
    }
   ],
   "source": [
    "apart = [ [101, 102], [201, 202], [301, 302] ]\n",
    "\n",
    "for i in apart :\n",
    "    for j in i :\n",
    "        print(j, \"호\")"
   ]
  },
  {
   "cell_type": "markdown",
   "metadata": {},
   "source": [
    "##### 문제 2"
   ]
  },
  {
   "cell_type": "markdown",
   "metadata": {},
   "source": [
    "##### 리스트에 저장된 데이터를 아래와 같이 출력하라."
   ]
  },
  {
   "cell_type": "markdown",
   "metadata": {},
   "source": [
    "apart = [ [101, 102], [201, 202], [301, 302] ]\n",
    "\n",
    "301 호 \n",
    "302 호\n",
    "201 호 \n",
    "202 호\n",
    "101 호\n",
    "102 호"
   ]
  },
  {
   "cell_type": "code",
   "execution_count": 8,
   "metadata": {},
   "outputs": [
    {
     "name": "stdout",
     "output_type": "stream",
     "text": [
      "301 호\n",
      "302 호\n",
      "201 호\n",
      "202 호\n",
      "101 호\n",
      "102 호\n"
     ]
    }
   ],
   "source": [
    "apart = [ [101, 102], [201, 202], [301, 302] ]\n",
    "\n",
    "for i in apart[::-1] :\n",
    "    for j in i :\n",
    "            print(j, \"호\")"
   ]
  },
  {
   "cell_type": "markdown",
   "metadata": {},
   "source": [
    "##### 문제 3"
   ]
  },
  {
   "cell_type": "markdown",
   "metadata": {},
   "source": [
    "##### 리스트에 저장된 데이터를 아래와 같이 출력하라."
   ]
  },
  {
   "cell_type": "markdown",
   "metadata": {},
   "source": [
    "apart = [ [101, 102], [201, 202], [301, 302] ]"
   ]
  },
  {
   "cell_type": "code",
   "execution_count": 10,
   "metadata": {},
   "outputs": [
    {
     "name": "stdout",
     "output_type": "stream",
     "text": [
      "101 호\n",
      "-----\n",
      "102 호\n",
      "-----\n",
      "201 호\n",
      "-----\n",
      "202 호\n",
      "-----\n",
      "301 호\n",
      "-----\n",
      "302 호\n"
     ]
    }
   ],
   "source": [
    "apart = [ [101, 102], [201, 202], [301, 302] ]\n",
    "\n",
    "for i in apart :\n",
    "    for j in i :\n",
    "        print(j, \"호\")\n",
    "        if j == 302 :\n",
    "            break\n",
    "        print(\"-----\")"
   ]
  },
  {
   "cell_type": "code",
   "execution_count": 12,
   "metadata": {},
   "outputs": [
    {
     "name": "stdout",
     "output_type": "stream",
     "text": [
      "101 호\n",
      "102 호\n",
      "-----\n",
      "201 호\n",
      "202 호\n",
      "-----\n",
      "301 호\n",
      "302 호\n"
     ]
    }
   ],
   "source": [
    "apart = [ [101, 102], [201, 202], [301, 302] ]\n",
    "\n",
    "for i in apart :\n",
    "    for j in i :\n",
    "        print(j, \"호\")\n",
    "    if j == 302 :\n",
    "            break    \n",
    "    print(\"-----\")    "
   ]
  },
  {
   "cell_type": "code",
   "execution_count": 3,
   "metadata": {},
   "outputs": [
    {
     "data": {
      "text/plain": [
       "1234567"
      ]
     },
     "execution_count": 3,
     "metadata": {},
     "output_type": "execute_result"
    }
   ],
   "source": [
    "def convert_int (string):\n",
    "    return int(string.replace(',', \"\"))\n",
    "\n",
    "convert_int(\"1,234,567\")"
   ]
  },
  {
   "cell_type": "code",
   "execution_count": 5,
   "metadata": {},
   "outputs": [
    {
     "data": {
      "text/plain": [
       "[1, 2, '짝', 4, 5, '짝', 7, 8, '짝']"
      ]
     },
     "execution_count": 5,
     "metadata": {},
     "output_type": "execute_result"
    }
   ],
   "source": [
    "def game_369 (num):\n",
    "    gameResult = []\n",
    "    for i in num :\n",
    "        if i % 3 == 0 :\n",
    "            gameResult.append(\"짝\")\n",
    "        else :\n",
    "            gameResult.append(i)\n",
    "    return gameResult\n",
    "\n",
    "game_369( [1, 2, 3, 4, 5, 6, 7, 8, 9] )"
   ]
  },
  {
   "cell_type": "code",
   "execution_count": null,
   "metadata": {},
   "outputs": [],
   "source": []
  }
 ],
 "metadata": {
  "kernelspec": {
   "display_name": "Python 3",
   "language": "python",
   "name": "python3"
  },
  "language_info": {
   "codemirror_mode": {
    "name": "ipython",
    "version": 3
   },
   "file_extension": ".py",
   "mimetype": "text/x-python",
   "name": "python",
   "nbconvert_exporter": "python",
   "pygments_lexer": "ipython3",
   "version": "3.11.8"
  }
 },
 "nbformat": 4,
 "nbformat_minor": 2
}
